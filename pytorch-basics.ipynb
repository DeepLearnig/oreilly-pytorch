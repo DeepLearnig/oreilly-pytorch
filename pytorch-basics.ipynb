{
 "cells": [
  {
   "cell_type": "markdown",
   "metadata": {},
   "source": [
    "## PyTorch Basics"
   ]
  },
  {
   "cell_type": "markdown",
   "metadata": {},
   "source": [
    "### Getting Started"
   ]
  },
  {
   "cell_type": "markdown",
   "metadata": {},
   "source": [
    "Welcome! This notebook will be an introduction to PyTorch. We will implement a simple 2-layer neural network that will solve a classification task using cross entropy loss. We will start with a naive NumPy implementation, **numpy_version**, where we explicitly define the forward and backward passes. This will allow us to understand the math behind the network and also see the explicit matrix operations that PyTorch will abstract and simplify. \n",
    "\n",
    "After the NumPy implementation, we will slowly start replacing sections of code with PyTorch components in **pytorch_tensors**. We will start with replacing NumPy arrays with PyTorch tensors. This section will also cover some of the matrix operations and manipulations. Next in **pytorch_autograd**, we will use autograd variables in order to have automatic backpropgation of the loss through our weights and biases. Next in **pytorch_custom_autograd**, we will learn how to implement our own custom autograd variables by explicitly defining the forward and backward pass. Then, we will jump to defining full models using nn.Modules in **pytorch_nn**. Then, to simplify even further, we will replace the parameter updates with an optimizer in **pytorch_optimization**. In the last function, **pytorch_cuda**, we will enable training with GPU (if present)."
   ]
  },
  {
   "cell_type": "markdown",
   "metadata": {},
   "source": [
    "### Requirements"
   ]
  },
  {
   "cell_type": "code",
   "execution_count": 27,
   "metadata": {
    "code_folding": [
     0
    ],
    "collapsed": true
   },
   "outputs": [],
   "source": [
    "# Call packages\n",
    "from __future__ import (\n",
    "    print_function,\n",
    ")\n",
    "\n",
    "__author__ = \"Goku Mohandas\"\n",
    "__email__ = \"gokumd@gmail.com\"\n",
    "\n",
    "import argparse\n",
    "import numpy as np\n",
    "import matplotlib.pyplot as plt\n",
    "import torch\n",
    "import torch.nn as nn\n",
    "import torch.nn.functional as F\n",
    "import torch.optim as optim\n",
    "\n",
    "from torchvision import (\n",
    "    datasets,\n",
    "    transforms,\n",
    ")\n",
    "\n",
    "from torch.autograd import (\n",
    "    Variable,\n",
    ")"
   ]
  },
  {
   "cell_type": "markdown",
   "metadata": {},
   "source": [
    "### Arguments"
   ]
  },
  {
   "cell_type": "code",
   "execution_count": 42,
   "metadata": {
    "code_folding": [
     0
    ]
   },
   "outputs": [],
   "source": [
    "class get_args():\n",
    "    \"\"\"\n",
    "    Arguments.\n",
    "    \"\"\"\n",
    "    def __init__(self):\n",
    "        \"\"\"\n",
    "        \"\"\"\n",
    "        self.seed = 1234\n",
    "        self.num_samples = 200\n",
    "        self.dimensions = 2\n",
    "        self.num_classes = 3\n",
    "        self.num_hidden_units = 100\n",
    "        self.regularization = 1e-3\n",
    "        self.learning_rate = 1.0\n",
    "        self.num_epochs = 2500\n",
    "        self.no_cuda = False"
   ]
  },
  {
   "cell_type": "code",
   "execution_count": 74,
   "metadata": {},
   "outputs": [],
   "source": [
    "FLAGS = get_args()\n",
    "\n",
    "# CUDA\n",
    "FLAGS.cuda = not FLAGS.no_cuda and torch.cuda.is_available()\n",
    "\n",
    "# Seeding\n",
    "torch.manual_seed(FLAGS.seed)\n",
    "if FLAGS.cuda:\n",
    "    torch.cuda.manual_seed_all(FLAGS.seed)"
   ]
  },
  {
   "cell_type": "markdown",
   "metadata": {},
   "source": [
    "### Data"
   ]
  },
  {
   "cell_type": "code",
   "execution_count": 51,
   "metadata": {
    "code_folding": [
     0
    ],
    "collapsed": true
   },
   "outputs": [],
   "source": [
    "def get_data(seed, num_samples, dimensions, num_classes):\n",
    "    \"\"\"\n",
    "    Create input data.\n",
    "    \"\"\"\n",
    "    np.random.seed (seed)\n",
    "    N = num_samples\n",
    "    D = dimensions\n",
    "    C = num_classes\n",
    "\n",
    "    # Create spiral data\n",
    "    X = np.zeros ((N*C, D))\n",
    "    y = np.zeros (N*C, dtype='int_')\n",
    "    for j in xrange (C):\n",
    "        ix = range (N*j,N*(j+1))\n",
    "        r = np.linspace (0.0,1,N)\n",
    "        t = np.linspace (j*4,(j+1)*4,N) + np.random.randn (N)*0.1\n",
    "        X[ix] = np.c_[r*np.sin (t), r*np.cos (t)]\n",
    "        y[ix] = j\n",
    "\n",
    "    print (\"X:\", (np.shape (X)))\n",
    "    print (\"y:\", (np.shape (y)))\n",
    "\n",
    "    return X, y"
   ]
  },
  {
   "cell_type": "code",
   "execution_count": 52,
   "metadata": {
    "code_folding": [
     0
    ],
    "collapsed": true
   },
   "outputs": [],
   "source": [
    "def plot_data(X, y):\n",
    "    \"\"\"\n",
    "    Plot the data.\n",
    "    \"\"\"\n",
    "    plt.scatter (X[:, 0], X[:, 1], c=y, s=20, cmap=plt.cm.Spectral)\n",
    "    plt.show ()"
   ]
  },
  {
   "cell_type": "code",
   "execution_count": 54,
   "metadata": {},
   "outputs": [
    {
     "name": "stdout",
     "output_type": "stream",
     "text": [
      "X: (600, 2)\n",
      "y: (600,)\n"
     ]
    },
    {
     "data": {
      "image/png": "[encoded data removed]",
      "text/plain": [
       "<matplotlib.figure.Figure at 0x10e5e0610>"
      ]
     },
     "metadata": {},
     "output_type": "display_data"
    }
   ],
   "source": [
    "# Create the data\n",
    "X, y = get_data (FLAGS.seed, FLAGS.num_samples, FLAGS.dimensions,\n",
    "    FLAGS.num_classes)\n",
    "plot_data(X, y)"
   ]
  },
  {
   "cell_type": "code",
   "execution_count": 56,
   "metadata": {
    "code_folding": [
     0
    ],
    "collapsed": true
   },
   "outputs": [],
   "source": [
    "def plot_model(X, y, w1, b1, w2, b2):\n",
    "    \"\"\"\n",
    "    Plot the model solution space.\n",
    "    \"\"\"\n",
    "    h = 0.01\n",
    "    x_min, x_max = X[:, 0].min() - 1, X[:, 0].max() + 1\n",
    "    y_min, y_max = X[:, 1].min() - 1, X[:, 1].max() + 1\n",
    "    xx, yy = np.meshgrid(np.arange(x_min, x_max, h),\n",
    "                         np.arange(y_min, y_max, h))\n",
    "    Z = np.dot(np.maximum(0, np.dot(np.c_[xx.ravel(), yy.ravel()], w1) + b1), w2) + b2\n",
    "    Z = np.argmax(Z, axis=1)\n",
    "    Z = Z.reshape(xx.shape)\n",
    "    fig = plt.figure()\n",
    "    plt.contourf(xx, yy, Z, cmap=plt.cm.Spectral, alpha=0.8)\n",
    "    plt.scatter(X[:, 0], X[:, 1], c=y, s=40, cmap=plt.cm.Spectral)\n",
    "    plt.xlim(xx.min(), xx.max())\n",
    "    plt.ylim(yy.min(), yy.max())\n",
    "    plt.show()"
   ]
  },
  {
   "cell_type": "markdown",
   "metadata": {},
   "source": [
    "### Math"
   ]
  },
  {
   "cell_type": "code",
   "execution_count": null,
   "metadata": {
    "collapsed": true
   },
   "outputs": [],
   "source": []
  },
  {
   "cell_type": "markdown",
   "metadata": {},
   "source": [
    "### Numpy"
   ]
  },
  {
   "cell_type": "code",
   "execution_count": 57,
   "metadata": {
    "code_folding": [
     0
    ],
    "collapsed": true
   },
   "outputs": [],
   "source": [
    "def numpy_version(X, y, num_hidden_units, num_classes, regularization,\n",
    "    learning_rate, num_epochs):\n",
    "    \"\"\"\n",
    "    Implement NN with numpy.\n",
    "    \"\"\"\n",
    "\n",
    "    # Dimensions\n",
    "    N = len(X) # num. samples\n",
    "    D_in = len(X[0]) # input dim.\n",
    "    H = num_hidden_units # hidden dim.\n",
    "    D_out = num_classes # output dim.\n",
    "\n",
    "    # Weights\n",
    "    w1 = 0.01 * np.random.randn(D_in, H)\n",
    "    w2 = 0.01 * np.random.randn(H, D_out)\n",
    "    b1 = np.zeros((1, H))\n",
    "    b2 = np.zeros((1, D_out))\n",
    "\n",
    "    for epoch in range(num_epochs):\n",
    "\n",
    "        # Forward pass\n",
    "        h = np.dot(X, w1) + b1\n",
    "        h_relu = np.maximum(0, h)\n",
    "        scores = np.dot(h_relu, w2) + b2\n",
    "        exp_scores = np.exp(scores)\n",
    "        probs = exp_scores / np.sum(exp_scores, axis=1, keepdims=True) # [N, D_out]\n",
    "\n",
    "        # Cross entropy loss\n",
    "        y_true_logprobs = -np.log(probs[range(N), y])\n",
    "        loss = np.sum(y_true_logprobs) / N\n",
    "        loss += 0.5*regularization*np.sum(w1*w1) + 0.5*regularization*np.sum(w2*w2)\n",
    "\n",
    "        # Backpropagation\n",
    "        dJ__dscores = probs\n",
    "        dJ__dscores[range(N), y] -= 1\n",
    "        dJ__dscores /= N\n",
    "\n",
    "        dJ__dw2 = np.dot(h_relu.T, dJ__dscores)\n",
    "        dJ__db2 = np.sum(dJ__dscores, axis=0, keepdims=True)\n",
    "        dJ__dh_relu = np.dot(dJ__dscores, w2.T)\n",
    "        dJ__dh_relu[h_relu <= 0] = 0 # dJ__dh\n",
    "        dJ__dh = dJ__dh_relu\n",
    "        dJ__dw1 = np.dot(X.T, dJ__dh)\n",
    "        dJ__db1 = np.sum(dJ__dh, axis=0, keepdims=True)\n",
    "\n",
    "        # Derivative of regularization component\n",
    "        dJ__dw2 += regularization * w2\n",
    "        dJ__dw1 += regularization * w1\n",
    "\n",
    "        # Gradient descent\n",
    "        w1 -= learning_rate * dJ__dw1\n",
    "        b1 -= learning_rate * dJ__db1\n",
    "        w2 -= learning_rate * dJ__dw2\n",
    "        b2 += -learning_rate * dJ__db2\n",
    "\n",
    "        # Verbose\n",
    "        if (epoch == 0) or (epoch % 1000 == 0) or (epoch == num_epochs-1):\n",
    "\n",
    "            # Accuracy\n",
    "            y_pred = np.argmax(scores, axis=1)\n",
    "            train_accuracy = (np.mean(y_pred == y))\n",
    "\n",
    "            print (\"[EPOCH]: %i, [TRAIN LOSS]: %.6f, [TRAIN ACC]: %.3f\" %\n",
    "                (epoch, loss, train_accuracy))\n",
    "\n",
    "    # Plot trained model\n",
    "    plot_model(X, y, w1, b1, w2, b2)"
   ]
  },
  {
   "cell_type": "code",
   "execution_count": 58,
   "metadata": {},
   "outputs": [
    {
     "name": "stdout",
     "output_type": "stream",
     "text": [
      "[EPOCH]: 0, [TRAIN LOSS]: 1.098556, [TRAIN ACC]: 0.475\n",
      "[EPOCH]: 1000, [TRAIN LOSS]: 0.273884, [TRAIN ACC]: 0.928\n",
      "[EPOCH]: 2000, [TRAIN LOSS]: 0.255643, [TRAIN ACC]: 0.972\n",
      "[EPOCH]: 2499, [TRAIN LOSS]: 0.248129, [TRAIN ACC]: 0.972\n"
     ]
    },
    {
     "data": {
      "image/png": "[encoded data removed]",
      "text/plain": [
       "<matplotlib.figure.Figure at 0x10e385b10>"
      ]
     },
     "metadata": {},
     "output_type": "display_data"
    }
   ],
   "source": [
    "# Numpy\n",
    "numpy_version(X, y, FLAGS.num_hidden_units, FLAGS.num_classes,\n",
    "              FLAGS.regularization, FLAGS.learning_rate, FLAGS.num_epochs)"
   ]
  },
  {
   "cell_type": "markdown",
   "metadata": {},
   "source": [
    "### PyTorch Tensors"
   ]
  },
  {
   "cell_type": "code",
   "execution_count": 59,
   "metadata": {
    "code_folding": [
     0
    ],
    "collapsed": true
   },
   "outputs": [],
   "source": [
    "def pytorch_tensors(X, y, num_hidden_units, num_classes, regularization,\n",
    "    learning_rate, num_epochs, dtype=torch.FloatTensor):\n",
    "    \"\"\"\n",
    "    Implement NN with PyTorch tensors.\n",
    "    \"\"\"\n",
    "\n",
    "    # Dimensions\n",
    "    N = len(X) # num. samples\n",
    "    D_in = len(X[0]) # input dim.\n",
    "    H = num_hidden_units # hidden dim.\n",
    "    D_out = num_classes # output dim.\n",
    "\n",
    "    # Convert data to PyTorch tensors\n",
    "    X = torch.FloatTensor(X)\n",
    "    y = torch.LongTensor(y)\n",
    "\n",
    "    # Weights\n",
    "    w1 = torch.randn(D_in, H).type(dtype)\n",
    "    w2 = torch.randn(H, D_out).type(dtype)\n",
    "    b1 = torch.zeros((1, H))\n",
    "    b2 = torch.zeros((1, D_out))\n",
    "\n",
    "    for epoch in range(num_epochs):\n",
    "\n",
    "        # Forward pass\n",
    "        h = X.mm(w1) + b1.repeat(N,1)\n",
    "        h_relu = h.clamp(min=0)\n",
    "        scores = h_relu.mm(w2) + b2.repeat(N,1)\n",
    "        exp_scores = torch.exp(scores)\n",
    "\n",
    "        probs = exp_scores / torch.sum(exp_scores, dim=1).repeat(1,num_classes) # [N, D_out]\n",
    "\n",
    "        # Cross entropy loss\n",
    "        y_true_logprobs = -torch.log(torch.gather(probs, 1, y.unsqueeze(1)))\n",
    "        loss = torch.sum(y_true_logprobs) / float(N)\n",
    "        loss += 0.5*regularization*torch.sum(w1*w1) + 0.5*regularization*torch.sum(w2*w2)\n",
    "\n",
    "        # Backpropagation\n",
    "        dJ__dscores = probs\n",
    "\n",
    "        def bp_correct_class(i, row, correct_class):\n",
    "            \"\"\"\n",
    "            1-prob for the correct class for sample i.\n",
    "            \"\"\"\n",
    "            row[correct_class] = row[correct_class] - 1\n",
    "            return row\n",
    "\n",
    "        for i, row in enumerate(dJ__dscores):\n",
    "            dJ__dscores[i] = bp_correct_class(i, row, y[i])\n",
    "\n",
    "        dJ__dscores /= float(N)\n",
    "\n",
    "        dJ__dw2 = torch.transpose(h_relu, 0, 1).mm(dJ__dscores)\n",
    "        dJ__db2 = torch.sum(dJ__dscores, dim=0)\n",
    "        dJ__dh_relu = dJ__dscores.mm(torch.transpose(w2, 0, 1))\n",
    "        dJ__dh_relu[h_relu <= 0] = 0 # dJ__dh\n",
    "        dJ__dh = dJ__dh_relu\n",
    "        dJ__dw1 = torch.transpose(X, 0, 1).mm(dJ__dh)\n",
    "        dJ__db1 = torch.sum(dJ__dh, dim=0)\n",
    "\n",
    "        # Derivative of regularization component\n",
    "        dJ__dw2 += regularization * w2\n",
    "        dJ__dw1 += regularization * w1\n",
    "\n",
    "        # Gradient descent\n",
    "        w1 -= learning_rate * dJ__dw1\n",
    "        b1 -= learning_rate * dJ__db1\n",
    "        w2 -= learning_rate * dJ__dw2\n",
    "        b2 += -learning_rate * dJ__db2\n",
    "\n",
    "        # Verbose\n",
    "        if (epoch == 0) or (epoch % 1000 == 0) or (epoch == num_epochs-1):\n",
    "\n",
    "            # Accuracy\n",
    "            score, predicted = torch.max(scores, 1)\n",
    "            train_accuracy = (y == predicted).sum() / float(N)\n",
    "\n",
    "            print (\"[EPOCH]: %i, [TRAIN LOSS]: %.6f, [TRAIN ACC]: %.3f\" %\n",
    "                (epoch, loss, train_accuracy))\n",
    "\n",
    "    # Plot trained model\n",
    "    plot_model(X.numpy(), y.numpy(), w1.numpy(), b1.numpy(), w2.numpy(), b2.numpy())"
   ]
  },
  {
   "cell_type": "code",
   "execution_count": 60,
   "metadata": {},
   "outputs": [
    {
     "name": "stdout",
     "output_type": "stream",
     "text": [
      "[EPOCH]: 0, [TRAIN LOSS]: 2.471428, [TRAIN ACC]: 0.330\n",
      "[EPOCH]: 1000, [TRAIN LOSS]: 0.244884, [TRAIN ACC]: 0.993\n",
      "[EPOCH]: 2000, [TRAIN LOSS]: 0.232903, [TRAIN ACC]: 0.995\n",
      "[EPOCH]: 2499, [TRAIN LOSS]: 0.231558, [TRAIN ACC]: 0.995\n"
     ]
    },
    {
     "data": {
      "image/png": "[encoded data removed]",
      "text/plain": [
       "<matplotlib.figure.Figure at 0x10e582a50>"
      ]
     },
     "metadata": {},
     "output_type": "display_data"
    }
   ],
   "source": [
    "# PyTorch tensors (no autograd, opti, etc.)\n",
    "pytorch_tensors(X, y, FLAGS.num_hidden_units, FLAGS.num_classes,\n",
    "                FLAGS.regularization, FLAGS.learning_rate, FLAGS.num_epochs)"
   ]
  },
  {
   "cell_type": "markdown",
   "metadata": {},
   "source": [
    "### PyTorch Autograd"
   ]
  },
  {
   "cell_type": "code",
   "execution_count": 62,
   "metadata": {
    "code_folding": [
     0
    ],
    "collapsed": true
   },
   "outputs": [],
   "source": [
    "def pytorch_autograd(X, y, num_hidden_units, num_classes, regularization,\n",
    "    learning_rate, num_epochs, dtype=torch.FloatTensor):\n",
    "    \"\"\"\n",
    "    Use autograd variables for\n",
    "    implicit backprop.\n",
    "    \"\"\"\n",
    "\n",
    "    # Dimensions\n",
    "    N = len(X) # num. samples\n",
    "    D_in = len(X[0]) # input dim.\n",
    "    H = num_hidden_units # hidden dim.\n",
    "    D_out = num_classes # output dim.\n",
    "\n",
    "    # Convert data to PyTorch tensors\n",
    "    X = Variable(torch.FloatTensor(X), requires_grad=False)\n",
    "    y = Variable(torch.LongTensor(y), requires_grad=False)\n",
    "\n",
    "    # Weights\n",
    "    w1 = Variable(torch.randn(D_in, H).type(dtype), requires_grad=True)\n",
    "    w2 = Variable(torch.randn(H, D_out).type(dtype), requires_grad=True)\n",
    "    b1 = Variable(torch.zeros((1, H)), requires_grad=True)\n",
    "    b2 = Variable(torch.zeros((1, D_out)), requires_grad=True)\n",
    "\n",
    "    for epoch in range(num_epochs):\n",
    "\n",
    "        # Forward pass\n",
    "        h = X.mm(w1) + b1.repeat(N,1)\n",
    "        h_relu = h.clamp(min=0)\n",
    "        scores = h_relu.mm(w2) + b2.repeat(N,1)\n",
    "        exp_scores = torch.exp(scores)\n",
    "\n",
    "        # Softmax normalization\n",
    "        probs = exp_scores / torch.sum(exp_scores, dim=1).repeat(1,num_classes) # [N, D_out]\n",
    "\n",
    "        # Cross entropy loss\n",
    "        y_true_logprobs = -torch.log(torch.gather(probs, 1, y.unsqueeze(1)))\n",
    "        loss = torch.sum(y_true_logprobs) / float(N)\n",
    "\n",
    "        # Use autograd to do backprop. This will compute the\n",
    "        # gradients w.r.t loss for all Variables that have\n",
    "        # requires_grad=True. So, our w1 and w2 will now have\n",
    "        # gradient components we can access.\n",
    "        loss.backward()\n",
    "\n",
    "        # Update the weights\n",
    "        w1.data -= learning_rate * w1.grad.data\n",
    "        w2.data -= learning_rate * w2.grad.data\n",
    "        b1.data -= learning_rate * b1.grad.data\n",
    "        b2.data -= learning_rate * b2.grad.data\n",
    "\n",
    "        # Zero-out the gradients before backprop\n",
    "        w1.grad.data.zero_()\n",
    "        w2.grad.data.zero_()\n",
    "        b1.grad.data.zero_()\n",
    "        b2.grad.data.zero_()\n",
    "\n",
    "        # Verbose\n",
    "        if (epoch == 0) or (epoch % 1000 == 0) or (epoch == num_epochs-1):\n",
    "\n",
    "            # Accuracy\n",
    "            score, predicted = torch.max(scores, 1)\n",
    "            train_accuracy = (y.data == predicted.data).sum() / float(N)\n",
    "\n",
    "            print (\"[EPOCH]: %i, [TRAIN LOSS]: %.6f, [TRAIN ACC]: %.3f\" %\n",
    "                (epoch, loss.data[0], train_accuracy))\n",
    "\n",
    "    # Plot trained model\n",
    "    plot_model(X.data.numpy(), y.data.numpy(), w1.data.numpy(), b1.data.numpy(),\n",
    "        w2.data.numpy(), b2.data.numpy())"
   ]
  },
  {
   "cell_type": "code",
   "execution_count": 63,
   "metadata": {},
   "outputs": [
    {
     "name": "stdout",
     "output_type": "stream",
     "text": [
      "[EPOCH]: 0, [TRAIN LOSS]: 4.378161, [TRAIN ACC]: 0.228\n",
      "[EPOCH]: 1000, [TRAIN LOSS]: 0.037196, [TRAIN ACC]: 0.997\n",
      "[EPOCH]: 2000, [TRAIN LOSS]: 0.027039, [TRAIN ACC]: 0.997\n",
      "[EPOCH]: 2499, [TRAIN LOSS]: 0.024486, [TRAIN ACC]: 0.997\n"
     ]
    },
    {
     "data": {
      "image/png": "[encoded data removed]",
      "text/plain": [
       "<matplotlib.figure.Figure at 0x12b7c64d0>"
      ]
     },
     "metadata": {},
     "output_type": "display_data"
    }
   ],
   "source": [
    "# PyTorch autograd\n",
    "pytorch_autograd(X, y, FLAGS.num_hidden_units, FLAGS.num_classes,\n",
    "                 FLAGS.regularization, FLAGS.learning_rate, FLAGS.num_epochs)"
   ]
  },
  {
   "cell_type": "markdown",
   "metadata": {
    "collapsed": true
   },
   "source": [
    "### PyTorch Custom Autograd"
   ]
  },
  {
   "cell_type": "code",
   "execution_count": 64,
   "metadata": {
    "code_folding": [
     0
    ],
    "collapsed": true
   },
   "outputs": [],
   "source": [
    "def pytorch_custom_autograd(X, y, num_hidden_units, num_classes, regularization,\n",
    "    learning_rate, num_epochs, dtype=torch.FloatTensor):\n",
    "    \"\"\"\n",
    "    Use autograd variables for\n",
    "    implicit backprop and\n",
    "    make your own autograd func.\n",
    "    \"\"\"\n",
    "\n",
    "    class ReLU(torch.autograd.Function):\n",
    "        \"\"\"\n",
    "        Just implemnet forward and\n",
    "        backward pass.\n",
    "        \"\"\"\n",
    "\n",
    "        def forward(self, input_):\n",
    "            \"\"\"\n",
    "            Process inputs and use\n",
    "            save_for_backward to store\n",
    "            inputs for backprop.\n",
    "            \"\"\"\n",
    "            self.save_for_backward(input_)\n",
    "            return input_.clamp(min=0)\n",
    "\n",
    "        def backward(self, grad_output):\n",
    "            \"\"\"\n",
    "            grad_output is the grad w.r.t loss.\n",
    "            \"\"\"\n",
    "            input_, =self.saved_tensors\n",
    "            grad_input = grad_output.clone()\n",
    "            grad_input[input_ < 0] = 0\n",
    "            return grad_input\n",
    "\n",
    "    # Dimensions\n",
    "    N = len(X) # num. samples\n",
    "    D_in = len(X[0]) # input dim.\n",
    "    H = num_hidden_units # hidden dim.\n",
    "    D_out = num_classes # output dim.\n",
    "\n",
    "    # Convert data to PyTorch tensors\n",
    "    X = Variable(torch.FloatTensor(X), requires_grad=False)\n",
    "    y = Variable(torch.LongTensor(y), requires_grad=False)\n",
    "\n",
    "    # Weights\n",
    "    w1 = Variable(torch.randn(D_in, H).type(dtype), requires_grad=True)\n",
    "    w2 = Variable(torch.randn(H, D_out).type(dtype), requires_grad=True)\n",
    "    b1 = Variable(torch.zeros((1, H)), requires_grad=True)\n",
    "    b2 = Variable(torch.zeros((1, D_out)), requires_grad=True)\n",
    "\n",
    "    for epoch in range(num_epochs):\n",
    "\n",
    "        # custom autograd func.\n",
    "        relu = ReLU()\n",
    "\n",
    "        # Forward pass\n",
    "        h = X.mm(w1) + b1.repeat(N,1)\n",
    "        h_relu = relu(h)\n",
    "        scores = h_relu.mm(w2) + b2.repeat(N,1)\n",
    "        exp_scores = torch.exp(scores)\n",
    "\n",
    "        # Softmax normalization\n",
    "        probs = exp_scores / torch.sum(exp_scores, dim=1).repeat(1,num_classes) # [N, D_out]\n",
    "\n",
    "        # Cross entropy loss\n",
    "        y_true_logprobs = -torch.log(torch.gather(probs, 1, y.unsqueeze(1)))\n",
    "        loss = torch.sum(y_true_logprobs) / float(N)\n",
    "\n",
    "        # Use autograd to do backprop. This will compute the\n",
    "        # gradients w.r.t loss for all Variables that have\n",
    "        # requires_grad=True. So, our w1 and w2 will now have\n",
    "        # gradient components we can access.\n",
    "        loss.backward()\n",
    "\n",
    "        # Update the weights\n",
    "        w1.data -= learning_rate * w1.grad.data\n",
    "        w2.data -= learning_rate * w2.grad.data\n",
    "        b1.data -= learning_rate * b1.grad.data\n",
    "        b2.data -= learning_rate * b2.grad.data\n",
    "\n",
    "        # Zero-out the gradients before backprop\n",
    "        w1.grad.data.zero_()\n",
    "        w2.grad.data.zero_()\n",
    "        b1.grad.data.zero_()\n",
    "        b2.grad.data.zero_()\n",
    "\n",
    "        # Verbose\n",
    "        if (epoch == 0) or (epoch % 1000 == 0) or (epoch == num_epochs-1):\n",
    "\n",
    "            # Accuracy\n",
    "            score, predicted = torch.max(scores, 1)\n",
    "            train_accuracy = (y.data == predicted.data).sum() / float(N)\n",
    "\n",
    "            print (\"[EPOCH]: %i, [TRAIN LOSS]: %.6f, [TRAIN ACC]: %.3f\" %\n",
    "                (epoch, loss.data[0], train_accuracy))\n",
    "\n",
    "    # Plot trained model\n",
    "    plot_model(X.data.numpy(), y.data.numpy(), w1.data.numpy(), b1.data.numpy(),\n",
    "        w2.data.numpy(), b2.data.numpy())"
   ]
  },
  {
   "cell_type": "code",
   "execution_count": 65,
   "metadata": {},
   "outputs": [
    {
     "name": "stdout",
     "output_type": "stream",
     "text": [
      "[EPOCH]: 0, [TRAIN LOSS]: 2.779339, [TRAIN ACC]: 0.415\n",
      "[EPOCH]: 1000, [TRAIN LOSS]: 0.036736, [TRAIN ACC]: 0.997\n",
      "[EPOCH]: 2000, [TRAIN LOSS]: 0.026987, [TRAIN ACC]: 0.997\n",
      "[EPOCH]: 2499, [TRAIN LOSS]: 0.024487, [TRAIN ACC]: 0.997\n"
     ]
    },
    {
     "data": {
      "image/png": "[encoded data removed]",
      "text/plain": [
       "<matplotlib.figure.Figure at 0x10b4b7050>"
      ]
     },
     "metadata": {},
     "output_type": "display_data"
    }
   ],
   "source": [
    "# PyTorch custom autograd\n",
    "pytorch_custom_autograd(X, y, FLAGS.num_hidden_units, FLAGS.num_classes,\n",
    "                        FLAGS.regularization, FLAGS.learning_rate, FLAGS.num_epochs)"
   ]
  },
  {
   "cell_type": "markdown",
   "metadata": {},
   "source": [
    "### PyTorch nn.Module"
   ]
  },
  {
   "cell_type": "code",
   "execution_count": 66,
   "metadata": {
    "code_folding": [
     0
    ],
    "collapsed": true
   },
   "outputs": [],
   "source": [
    "def pytorch_nn(X, y, num_hidden_units, num_classes, regularization,\n",
    "    learning_rate, num_epochs, dtype=torch.FloatTensor):\n",
    "    \"\"\"\n",
    "    Use nn.Module.\n",
    "    \"\"\"\n",
    "\n",
    "    # Dimensions\n",
    "    N = len(X) # num. samples\n",
    "    D_in = len(X[0]) # input dim.\n",
    "    H = num_hidden_units # hidden dim.\n",
    "    D_out = num_classes # output dim.\n",
    "\n",
    "    # Convert data to PyTorch tensors\n",
    "    X = Variable(torch.FloatTensor(X), requires_grad=False)\n",
    "    y = Variable(torch.LongTensor(y), requires_grad=False)\n",
    "\n",
    "    # Model\n",
    "    class Model(nn.Module):\n",
    "        \"\"\"\n",
    "        NN model using nn.Module\n",
    "        \"\"\"\n",
    "        def __init__(self):\n",
    "            \"\"\"\n",
    "            Initialize weights.\n",
    "            \"\"\"\n",
    "            super(Model, self).__init__()\n",
    "            self.fc1 = nn.Linear(D_in, H)\n",
    "            self.fc2 = nn.Linear(H, D_out)\n",
    "\n",
    "        def forward(self, x):\n",
    "            \"\"\"\n",
    "            Forward pass.\n",
    "            \"\"\"\n",
    "            z = F.relu(self.fc1(x))\n",
    "            z = self.fc2(z)\n",
    "            return z\n",
    "\n",
    "    # Create model\n",
    "    model = Model()\n",
    "\n",
    "    # Objective\n",
    "    criterion = torch.nn.CrossEntropyLoss()\n",
    "\n",
    "    # Training\n",
    "    for epoch in range(num_epochs):\n",
    "\n",
    "        # Zero-out gradients\n",
    "        model.zero_grad()\n",
    "\n",
    "        # Forward pass\n",
    "        scores = model(X) # logits\n",
    "\n",
    "        # Loss\n",
    "        loss = criterion(scores, y)\n",
    "\n",
    "        # Use autograd to do backprop. This will compute the\n",
    "        # gradients w.r.t loss for all Variables that have\n",
    "        # requires_grad=True. So, our w1 and w2 will now have\n",
    "        # gradient components we can access.\n",
    "        loss.backward()\n",
    "\n",
    "        # Update the weights\n",
    "        for param in model.parameters():\n",
    "            param.data -= learning_rate * param.grad.data\n",
    "\n",
    "        # Verbose\n",
    "        if (epoch == 0) or (epoch % 1000 == 0) or (epoch == num_epochs-1):\n",
    "\n",
    "            # Accuracy\n",
    "            score, predicted = torch.max(scores, 1)\n",
    "            train_accuracy = (y.data == predicted.data).sum() / float(N)\n",
    "\n",
    "            print (\"[EPOCH]: %i, [TRAIN LOSS]: %.6f, [TRAIN ACC]: %.3f\" %\n",
    "                (epoch, loss.data[0], train_accuracy))\n",
    "\n",
    "    # Plot trained model\n",
    "    plot_model(X.data.numpy(), y.data.numpy(),\n",
    "        torch.transpose(model.fc1.weight.data, 0, 1).numpy(),\n",
    "        model.fc1.bias.data.numpy(),\n",
    "        torch.transpose(model.fc2.weight.data, 0, 1).numpy(),\n",
    "        model.fc2.bias.data.numpy())"
   ]
  },
  {
   "cell_type": "code",
   "execution_count": 67,
   "metadata": {},
   "outputs": [
    {
     "name": "stdout",
     "output_type": "stream",
     "text": [
      "[EPOCH]: 0, [TRAIN LOSS]: 1.065537, [TRAIN ACC]: 0.333\n",
      "[EPOCH]: 1000, [TRAIN LOSS]: 0.054344, [TRAIN ACC]: 0.993\n",
      "[EPOCH]: 2000, [TRAIN LOSS]: 0.033581, [TRAIN ACC]: 0.997\n",
      "[EPOCH]: 2499, [TRAIN LOSS]: 0.029331, [TRAIN ACC]: 0.997\n"
     ]
    },
    {
     "data": {
      "image/png": "[encoded data removed]",
      "text/plain": [
       "<matplotlib.figure.Figure at 0x12b7bdcd0>"
      ]
     },
     "metadata": {},
     "output_type": "display_data"
    }
   ],
   "source": [
    "# Pytorch nn.Module\n",
    "pytorch_nn(X, y, FLAGS.num_hidden_units, FLAGS.num_classes,\n",
    "           FLAGS.regularization, FLAGS.learning_rate, FLAGS.num_epochs)"
   ]
  },
  {
   "cell_type": "markdown",
   "metadata": {
    "collapsed": true
   },
   "source": [
    "### PyTorch Optimization"
   ]
  },
  {
   "cell_type": "code",
   "execution_count": 73,
   "metadata": {
    "code_folding": [
     0
    ],
    "collapsed": true
   },
   "outputs": [],
   "source": [
    "def pytorch_optimization(X, y, num_hidden_units, num_classes, regularization,\n",
    "    learning_rate, num_epochs, dtype=torch.FloatTensor):\n",
    "    \"\"\"\n",
    "    Putting it all together\n",
    "    with the optimization tools.\n",
    "    \"\"\"\n",
    "\n",
    "    # Dimensions\n",
    "    N = len(X) # num. samples\n",
    "    D_in = len(X[0]) # input dim.\n",
    "    H = num_hidden_units # hidden dim.\n",
    "    D_out = num_classes # output dim.\n",
    "\n",
    "    # Convert data to PyTorch tensors\n",
    "    X = Variable(torch.FloatTensor(X), requires_grad=False)\n",
    "    y = Variable(torch.LongTensor(y), requires_grad=False)\n",
    "\n",
    "    # Model\n",
    "    class Model(nn.Module):\n",
    "        \"\"\"\n",
    "        NN model using nn.Module\n",
    "        \"\"\"\n",
    "        def __init__(self):\n",
    "            \"\"\"\n",
    "            Initialize weights.\n",
    "            \"\"\"\n",
    "            super(Model, self).__init__()\n",
    "            self.fc1 = nn.Linear(D_in, H)\n",
    "            self.fc2 = nn.Linear(H, D_out)\n",
    "\n",
    "        def forward(self, x):\n",
    "            \"\"\"\n",
    "            Forward pass.\n",
    "            \"\"\"\n",
    "            z = F.relu(self.fc1(x))\n",
    "            z = self.fc2(z)\n",
    "            return z\n",
    "\n",
    "    # Create model\n",
    "    model = Model()\n",
    "\n",
    "    # Objective\n",
    "    criterion = torch.nn.CrossEntropyLoss()\n",
    "\n",
    "    # Optimizer\n",
    "    optimizer = torch.optim.Adam(model.parameters(), lr=learning_rate)\n",
    "\n",
    "    # Training\n",
    "    for epoch in range(num_epochs):\n",
    "\n",
    "        # Forward pass\n",
    "        scores = model(X) # logits\n",
    "\n",
    "        # Loss\n",
    "        loss = criterion(scores, y)\n",
    "\n",
    "        # Use autograd to do backprop. This will compute the\n",
    "        # gradients w.r.t loss for all Variables that have\n",
    "        # requires_grad=True. So, our w1 and w2 will now have\n",
    "        # gradient components we can access.\n",
    "        optimizer.zero_grad()\n",
    "        loss.backward()\n",
    "        optimizer.step()\n",
    "\n",
    "        # Verbose\n",
    "        if (epoch == 0) or (epoch % 1000 == 0) or (epoch == num_epochs-1):\n",
    "\n",
    "            # Accuracy\n",
    "            score, predicted = torch.max(scores, 1)\n",
    "            train_accuracy = (y.data == predicted.data).sum() / float(N)\n",
    "\n",
    "            print (\"[EPOCH]: %i, [TRAIN LOSS]: %.6f, [TRAIN ACC]: %.3f\" %\n",
    "                (epoch, loss.data[0], train_accuracy))\n",
    "\n",
    "    # Plot trained model\n",
    "    plot_model(X.data.numpy(), y.data.numpy(),\n",
    "        torch.transpose(model.fc1.weight.data, 0, 1).numpy(),\n",
    "        model.fc1.bias.data.numpy(),\n",
    "        torch.transpose(model.fc2.weight.data, 0, 1).numpy(),\n",
    "        model.fc2.bias.data.numpy())"
   ]
  },
  {
   "cell_type": "code",
   "execution_count": 75,
   "metadata": {},
   "outputs": [
    {
     "name": "stdout",
     "output_type": "stream",
     "text": [
      "[EPOCH]: 0, [TRAIN LOSS]: 1.176377, [TRAIN ACC]: 0.255\n",
      "[EPOCH]: 1000, [TRAIN LOSS]: 0.007297, [TRAIN ACC]: 0.997\n",
      "[EPOCH]: 2000, [TRAIN LOSS]: 0.006389, [TRAIN ACC]: 0.997\n",
      "[EPOCH]: 2499, [TRAIN LOSS]: 0.006191, [TRAIN ACC]: 0.997\n"
     ]
    },
    {
     "data": {
      "image/png": "[encoded data removed]",
      "text/plain": [
       "<matplotlib.figure.Figure at 0x142e71c90>"
      ]
     },
     "metadata": {},
     "output_type": "display_data"
    }
   ],
   "source": [
    "# PyTorch optim\n",
    "pytorch_optimization(X, y, FLAGS.num_hidden_units, FLAGS.num_classes,\n",
    "                     FLAGS.regularization, FLAGS.learning_rate, FLAGS.num_epochs)"
   ]
  },
  {
   "cell_type": "markdown",
   "metadata": {},
   "source": [
    "### PyTorch CUDA"
   ]
  },
  {
   "cell_type": "code",
   "execution_count": 78,
   "metadata": {
    "collapsed": true
   },
   "outputs": [],
   "source": [
    "FLAGS.cuda = True\n",
    "FLAGS.cuda = not FLAGS.no_cuda and torch.cuda.is_available()"
   ]
  },
  {
   "cell_type": "code",
   "execution_count": 79,
   "metadata": {
    "code_folding": [
     0
    ],
    "collapsed": true
   },
   "outputs": [],
   "source": [
    "def pytorch_cuda(X, y, num_hidden_units, num_classes, regularization,\n",
    "    learning_rate, num_epochs, cuda_enabled):\n",
    "    \"\"\"\n",
    "    CUDA enabled.\n",
    "    \"\"\"\n",
    "\n",
    "    # dtype\n",
    "    if not cuda_enabled:\n",
    "        dtype = torch.FloatTensor\n",
    "        print (\"Not using GPU :(\")\n",
    "    else:\n",
    "        dtype = torch.cuda.FloatTensor\n",
    "        print (\"Using GPU :)\")\n",
    "\n",
    "    # Convert data to PyTorch tensors\n",
    "    X = torch.FloatTensor(X)\n",
    "    y = torch.LongTensor(y)\n",
    "    if cuda_enabled:\n",
    "        X = X.cuda()\n",
    "        y = y.cuda()\n",
    "    X = Variable(X, requires_grad=False)\n",
    "    y = Variable(y, requires_grad=False)\n",
    "\n",
    "    # Dimensions\n",
    "    N = len(X) # num. samples\n",
    "    D_in = len(X[0]) # input dim.\n",
    "    H = num_hidden_units # hidden dim.\n",
    "    D_out = num_classes # output dim.\n",
    "\n",
    "    # Model\n",
    "    class Model(nn.Module):\n",
    "        \"\"\"\n",
    "        NN model using nn.Module\n",
    "        \"\"\"\n",
    "        def __init__(self):\n",
    "            \"\"\"\n",
    "            Initialize weights.\n",
    "            \"\"\"\n",
    "            super(Model, self).__init__()\n",
    "            self.fc1 = nn.Linear(D_in, H)\n",
    "            self.fc2 = nn.Linear(H, D_out)\n",
    "\n",
    "        def forward(self, x):\n",
    "            \"\"\"\n",
    "            Forward pass.\n",
    "            \"\"\"\n",
    "            z = F.relu(self.fc1(x))\n",
    "            z = self.fc2(z)\n",
    "            return z\n",
    "\n",
    "    # Create model\n",
    "    model = Model()\n",
    "    if cuda_enabled:\n",
    "        model.cuda()\n",
    "\n",
    "    # Objective\n",
    "    criterion = torch.nn.CrossEntropyLoss()\n",
    "\n",
    "    # Optimizer\n",
    "    optimizer = torch.optim.Adam(model.parameters(), lr=learning_rate)\n",
    "\n",
    "    # Training\n",
    "    for epoch in range(num_epochs):\n",
    "\n",
    "        # Forward pass\n",
    "        scores = model(X) # logits\n",
    "\n",
    "        # Loss\n",
    "        loss = criterion(scores, y)\n",
    "\n",
    "        # Use autograd to do backprop. This will compute the\n",
    "        # gradients w.r.t loss for all Variables that have\n",
    "        # requires_grad=True. So, our w1 and w2 will now have\n",
    "        # gradient components we can access.\n",
    "        optimizer.zero_grad()\n",
    "        loss.backward()\n",
    "        optimizer.step()\n",
    "\n",
    "        # Verbose\n",
    "        if (epoch == 0) or (epoch % 1000 == 0) or (epoch == num_epochs-1):\n",
    "\n",
    "            # Accuracy\n",
    "            score, predicted = torch.max(scores, 1)\n",
    "            train_accuracy = (y.data == predicted.data).cpu().sum() / float(N)\n",
    "\n",
    "            print (\"[EPOCH]: %i, [TRAIN LOSS]: %.6f, [TRAIN ACC]: %.3f\" %\n",
    "                (epoch, loss.data[0], train_accuracy))\n",
    "\n",
    "    # Plot trained model\n",
    "    plot_model(X.data.numpy(), y.data.numpy(),\n",
    "        torch.transpose(model.fc1.weight.data, 0, 1).numpy(),\n",
    "        model.fc1.bias.data.numpy(),\n",
    "        torch.transpose(model.fc2.weight.data, 0, 1).numpy(),\n",
    "        model.fc2.bias.data.numpy())"
   ]
  },
  {
   "cell_type": "code",
   "execution_count": 80,
   "metadata": {},
   "outputs": [
    {
     "name": "stdout",
     "output_type": "stream",
     "text": [
      "Not using GPU :(\n",
      "[EPOCH]: 0, [TRAIN LOSS]: 1.143009, [TRAIN ACC]: 0.333\n",
      "[EPOCH]: 1000, [TRAIN LOSS]: 0.008315, [TRAIN ACC]: 0.997\n",
      "[EPOCH]: 2000, [TRAIN LOSS]: 0.006300, [TRAIN ACC]: 0.997\n",
      "[EPOCH]: 2499, [TRAIN LOSS]: 0.005976, [TRAIN ACC]: 0.997\n"
     ]
    },
    {
     "data": {
      "image/png": "[encoded data removed]",
      "text/plain": [
       "<matplotlib.figure.Figure at 0x10fb2f990>"
      ]
     },
     "metadata": {},
     "output_type": "display_data"
    }
   ],
   "source": [
    "pytorch_cuda(X, y, FLAGS.num_hidden_units, FLAGS.num_classes,\n",
    "             FLAGS.regularization, FLAGS.learning_rate, FLAGS.num_epochs,\n",
    "             cuda_enabled=FLAGS.cuda)"
   ]
  },
  {
   "cell_type": "markdown",
   "metadata": {},
   "source": [
    "### Next Steps"
   ]
  },
  {
   "cell_type": "code",
   "execution_count": null,
   "metadata": {
    "collapsed": true
   },
   "outputs": [],
   "source": []
  }
 ],
 "metadata": {
  "kernelspec": {
   "display_name": "Python 2",
   "language": "python",
   "name": "python2"
  },
  "language_info": {
   "codemirror_mode": {
    "name": "ipython",
    "version": 2
   },
   "file_extension": ".py",
   "mimetype": "text/x-python",
   "name": "python",
   "nbconvert_exporter": "python",
   "pygments_lexer": "ipython2",
   "version": "2.7.10"
  }
 },
 "nbformat": 4,
 "nbformat_minor": 2
}
