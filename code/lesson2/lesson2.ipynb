{
 "cells": [
  {
   "cell_type": "markdown",
   "metadata": {},
   "source": [
    "# Lesson 2: Convolutional Neural Networks with PyTorch\n",
    "- [@AlfredoCanziani](https://twitter.com/alfredocanziani)\n",
    "- [@GokuMohandas](https://twitter.com/GokuMohandas)"
   ]
  },
  {
   "cell_type": "code",
   "execution_count": 7,
   "metadata": {
    "collapsed": true
   },
   "outputs": [],
   "source": [
    "import os\n",
    "import sys\n",
    "import random\n",
    "import time\n",
    "import math\n",
    "import numpy as np\n",
    "import matplotlib.pyplot as plt\n",
    "import pylab as pl\n",
    "\n",
    "from pycrayon import (\n",
    "    CrayonClient,\n",
    ")\n",
    "\n",
    "from IPython import (\n",
    "    display,\n",
    ")\n",
    "\n",
    "from IPython.display import (\n",
    "    Image,\n",
    "    clear_output,\n",
    ")\n",
    "\n",
    "# get matplotlib configuration\n",
    "%matplotlib inline\n",
    "%run plot_conf.py"
   ]
  },
  {
   "cell_type": "code",
   "execution_count": 8,
   "metadata": {
    "collapsed": true
   },
   "outputs": [],
   "source": [
    "import torch\n",
    "import torch.utils.data\n",
    "import torch.nn as nn\n",
    "import torch.nn.functional as F\n",
    "import torch.optim as optim\n",
    "\n",
    "from torch.autograd import (\n",
    "    Variable,\n",
    ")\n",
    "\n",
    "from torch.nn import (\n",
    "    init,\n",
    ")\n",
    "\n",
    "from torchvision import (\n",
    "    datasets, \n",
    "    transforms,\n",
    "    models,\n",
    "    utils,\n",
    ")"
   ]
  },
  {
   "cell_type": "markdown",
   "metadata": {},
   "source": [
    "### Simple CNN for MNIST Classification"
   ]
  },
  {
   "cell_type": "code",
   "execution_count": 9,
   "metadata": {
    "collapsed": true
   },
   "outputs": [],
   "source": [
    "# training params\n",
    "batch_size = 64\n",
    "num_epochs = 3\n",
    "learning_rate = 0.01\n",
    "dropout_p = 0.5\n",
    "log_interval = 1 # epochs\n",
    "num_hidden_units = 50\n",
    "num_classes = 10 # MNIST\n",
    "decay_rate = 0.9999\n",
    "max_grad_norm = 5.0\n",
    "\n",
    "# Use gpu\n",
    "cuda = True\n",
    "cuda = cuda and torch.cuda.is_available()\n",
    "\n",
    "# reproduceability\n",
    "seed = 1234\n",
    "torch.manual_seed(seed)\n",
    "if cuda:\n",
    "    torch.cuda.manual_seed(seed)"
   ]
  },
  {
   "cell_type": "code",
   "execution_count": 10,
   "metadata": {},
   "outputs": [],
   "source": [
    "# Train data loaders\n",
    "train_loader = torch.utils.data.DataLoader(\n",
    "    datasets.MNIST('data/mnist', train=True, download=True,\n",
    "                   transform=transforms.Compose([\n",
    "                       transforms.ToTensor(),\n",
    "                       transforms.Normalize((0.1307,), (0.3081,))\n",
    "                   ])),\n",
    "    batch_size=batch_size, shuffle=True)\n",
    "\n",
    "# Test data loader\n",
    "test_loader = torch.utils.data.DataLoader(\n",
    "    datasets.MNIST('data/mnist', train=False, transform=transforms.Compose([\n",
    "                       transforms.ToTensor(),\n",
    "                       transforms.Normalize((0.1307,), (0.3081,))\n",
    "                   ])),\n",
    "    batch_size=batch_size, shuffle=True)"
   ]
  },
  {
   "cell_type": "code",
   "execution_count": 11,
   "metadata": {},
   "outputs": [
    {
     "data": {
      "image/png": "[encoded data removed]",
      "text/plain": [
       "<matplotlib.figure.Figure at 0x107c1e358>"
      ]
     },
     "metadata": {},
     "output_type": "display_data"
    }
   ],
   "source": [
    "# Visualize some samples\n",
    "for batch in test_loader:\n",
    "    samples = batch[0][:5]\n",
    "    y_true = batch[1]\n",
    "    plt.subplot(1, 5, 1)\n",
    "    for i, sample in enumerate(samples):\n",
    "        plt.subplot(1, 5, i+1)\n",
    "        plt.title('Number: %i'% y_true[i])\n",
    "        plt.imshow(sample.numpy().reshape((28,28)))\n",
    "    break"
   ]
  },
  {
   "cell_type": "code",
   "execution_count": 12,
   "metadata": {
    "collapsed": true
   },
   "outputs": [],
   "source": [
    "# CNN model\n",
    "class CNN(nn.Module):\n",
    "    \"\"\"\n",
    "    Simple CNN for MNIST classification.\n",
    "    \"\"\"\n",
    "    def __init__(self, dropout_p, num_hidden_units, num_classes):\n",
    "        \"\"\"\n",
    "        Initialization.\n",
    "        \"\"\"\n",
    "        super(CNN, self).__init__()\n",
    "        self.conv1 = nn.Conv2d(1, 10, kernel_size=5)\n",
    "        self.conv2 = nn.Conv2d(10, 20, kernel_size=5)\n",
    "        self.dropout_conv2 = nn.Dropout2d(dropout_p)\n",
    "        self.fc1 = nn.Linear(320, num_hidden_units)\n",
    "        self.fc2 = nn.Linear(num_hidden_units, num_classes)\n",
    "\n",
    "    def forward(self, x):\n",
    "        \"\"\"\n",
    "        Feed Foward.\n",
    "        \"\"\"\n",
    "        x = F.relu(F.max_pool2d(self.conv1(x), 2))\n",
    "        x = F.relu(F.max_pool2d(self.dropout_conv2(self.conv2(x)), 2))\n",
    "        x = x.view(-1, 320) # flatten\n",
    "        x = F.relu(self.fc1(x))\n",
    "        x = F.dropout(x, training=self.training)\n",
    "        x = self.fc2(x)\n",
    "        return x # logits"
   ]
  },
  {
   "cell_type": "code",
   "execution_count": 13,
   "metadata": {
    "collapsed": true
   },
   "outputs": [],
   "source": [
    "# Initialize model components\n",
    "model = CNN(dropout_p, num_hidden_units, num_classes)\n",
    "if cuda:\n",
    "    model.cuda()\n",
    "optimizer = optim.Adam(model.parameters(), lr=learning_rate)\n",
    "criterion = torch.nn.CrossEntropyLoss()"
   ]
  },
  {
   "cell_type": "code",
   "execution_count": 14,
   "metadata": {
    "code_folding": [
     0
    ],
    "collapsed": true
   },
   "outputs": [],
   "source": [
    "def process_batch(inputs, targets, model, criterion, optimizer, cuda, is_training):\n",
    "    \"\"\"\n",
    "    Process a minibatch for loss and accuracy.\n",
    "    \"\"\"\n",
    "    \n",
    "    if cuda:\n",
    "        inputs, target = inputs.cuda(), target.cuda()\n",
    "    \n",
    "    # Convert tensors to Variables (for autograd)\n",
    "    if is_training:\n",
    "        X_batch = Variable(inputs, requires_grad=False)\n",
    "    else:\n",
    "        X_batch = Variable(inputs, volatile=True, requires_grad=False)\n",
    "    y_batch = Variable(targets.long(), requires_grad=False)\n",
    "\n",
    "    # Forward pass\n",
    "    scores = model(X_batch) # logits\n",
    "\n",
    "    # Loss\n",
    "    loss = criterion(scores, y_batch)\n",
    "    \n",
    "    # Accuracy\n",
    "    score, predicted = torch.max(scores, 1)\n",
    "    accuracy = (y_batch.data == predicted.data).sum() / float(len(y_batch))\n",
    "    \n",
    "    if is_training:\n",
    "\n",
    "        # Use autograd to do backprop. This will compute the\n",
    "        # gradients w.r.t loss for all Variables that have\n",
    "        # requires_grad=True. So, our w1 and w2 will now have\n",
    "        # gradient components we can access.\n",
    "        optimizer.zero_grad()\n",
    "        loss.backward()\n",
    "        \n",
    "        # Clip the gradient norms\n",
    "        nn.utils.clip_grad_norm(model.parameters(), max_grad_norm)\n",
    "\n",
    "        # Update params\n",
    "        optimizer.step()\n",
    "\n",
    "    return loss, accuracy"
   ]
  },
  {
   "cell_type": "code",
   "execution_count": 15,
   "metadata": {
    "code_folding": [
     0
    ],
    "collapsed": true
   },
   "outputs": [],
   "source": [
    "def train(model, criterion, optimizer, train_loader, test_loader, \n",
    "          num_epochs, batch_size, log_interval, learning_rate,\n",
    "          dropout_p, decay_rate, max_grad_norm, cuda):\n",
    "    \"\"\"\n",
    "    Training.\n",
    "    \"\"\"\n",
    "    \n",
    "    # Metrics\n",
    "    train_loss = []\n",
    "    train_acc = []\n",
    "    test_loss = []\n",
    "    test_acc = []\n",
    "\n",
    "    # Training\n",
    "    for num_train_epoch in range(num_epochs):\n",
    "\n",
    "        # Timer\n",
    "        start = time.time()\n",
    "\n",
    "        # Decay learning rate\n",
    "        learning_rate = learning_rate * (decay_rate ** (num_train_epoch // 1.0))\n",
    "        for param_group in optimizer.param_groups:\n",
    "            param_group['lr'] = learning_rate\n",
    "\n",
    "        # Metrics\n",
    "        train_batch_loss = 0.0\n",
    "        train_batch_accuracy = 0.0\n",
    "\n",
    "        for train_batch_num, (inputs, target) in enumerate(train_loader):\n",
    "\n",
    "            # Get metrics\n",
    "            model.train()\n",
    "            loss, accuracy = process_batch(inputs, target, model, criterion, optimizer, cuda, model.training)\n",
    "\n",
    "            # Add to batch scalars\n",
    "            train_batch_loss += loss.data[0] / float(len(inputs))\n",
    "            train_batch_accuracy += accuracy\n",
    "            \n",
    "        # Add to global metrics\n",
    "        train_loss.append(train_batch_loss/float(train_batch_num+1))\n",
    "        train_acc.append(train_batch_accuracy/float(train_batch_num+1))\n",
    "\n",
    "        # Testing\n",
    "        model.eval()\n",
    "        for num_test_epoch in range(1):\n",
    "\n",
    "            # Metrics\n",
    "            test_batch_loss = 0.0\n",
    "            test_batch_accuracy = 0.0\n",
    "\n",
    "            for test_batch_num, (inputs, target) in enumerate(test_loader):\n",
    "\n",
    "                # Get metrics\n",
    "                model.eval()\n",
    "                loss, accuracy = \\\n",
    "                    process_batch(inputs, target, model, criterion, optimizer, cuda, model.training)\n",
    "\n",
    "                # Add to batch scalars\n",
    "                test_batch_loss += loss.data[0] / float(len(inputs))\n",
    "                test_batch_accuracy += accuracy\n",
    "\n",
    "            # Add to global metrics\n",
    "            test_loss.append(test_batch_loss/float(test_batch_num+1))\n",
    "            test_acc.append(test_batch_accuracy/float(test_batch_num+1))\n",
    "                \n",
    "\n",
    "            verbose_condition = \\\n",
    "                (num_train_epoch == 0) or (num_train_epoch % log_interval == 0) or (num_train_epoch == num_epochs-1)\n",
    "\n",
    "            # Verbose\n",
    "            if verbose_condition:\n",
    "\n",
    "                # Verbose\n",
    "                time_remain = (time.time() - start) * (num_epochs - (num_train_epoch+1))\n",
    "                minutes = time_remain // 60\n",
    "                seconds = time_remain - minutes*60\n",
    "                print(\"TIME REMAINING: %im %is\" % (minutes, seconds))\n",
    "                print(\"[EPOCH]: %i, [TRAIN LOSS]: %.6f, [TRAIN ACC]: %.3f, [TEST LOSS]: %.6f, [TEST ACC]: %.3f\" %\n",
    "                       (num_train_epoch, train_batch_loss/float(train_batch_num+1), \n",
    "                        train_batch_accuracy/float(train_batch_num+1), test_batch_loss/float(test_batch_num+1),\n",
    "                        test_batch_accuracy/float(test_batch_num+1)))\n",
    "    \n",
    "    return model"
   ]
  },
  {
   "cell_type": "code",
   "execution_count": 16,
   "metadata": {},
   "outputs": [
    {
     "name": "stdout",
     "output_type": "stream",
     "text": [
      "TIME REMAINING: 0m 42s\n",
      "[EPOCH]: 0, [TRAIN LOSS]: 0.009104, [TRAIN ACC]: 0.821, [TEST LOSS]: 0.002643, [TEST ACC]: 0.951\n",
      "TIME REMAINING: 0m 21s\n",
      "[EPOCH]: 1, [TRAIN LOSS]: 0.006367, [TRAIN ACC]: 0.879, [TEST LOSS]: 0.001852, [TEST ACC]: 0.966\n",
      "TIME REMAINING: 0m 0s\n",
      "[EPOCH]: 2, [TRAIN LOSS]: 0.006046, [TRAIN ACC]: 0.887, [TEST LOSS]: 0.001718, [TEST ACC]: 0.966\n"
     ]
    }
   ],
   "source": [
    "model = train(model, criterion, optimizer, train_loader, test_loader, \n",
    "          num_epochs, batch_size, log_interval, learning_rate,\n",
    "          dropout_p, decay_rate, max_grad_norm, cuda)"
   ]
  },
  {
   "cell_type": "code",
   "execution_count": 17,
   "metadata": {},
   "outputs": [],
   "source": [
    "def infer(model, inputs):\n",
    "    \"\"\"\n",
    "    Inference.\n",
    "    \"\"\"\n",
    "    if cuda:\n",
    "        inputs = inputs.cuda()\n",
    "\n",
    "    # Convert tensors to Variables (for autograd)\n",
    "    X_batch = Variable(inputs, volatile=True, requires_grad=False)\n",
    "\n",
    "    # Forward pass\n",
    "    scores = model(X_batch) # logits\n",
    "\n",
    "    # Accuracy\n",
    "    score, predicted = torch.max(scores, 1)\n",
    "\n",
    "    return predicted"
   ]
  },
  {
   "cell_type": "code",
   "execution_count": 18,
   "metadata": {},
   "outputs": [
    {
     "data": {
      "image/png": "[encoded data removed]",
      "text/plain": [
       "<matplotlib.figure.Figure at 0x109c16940>"
      ]
     },
     "metadata": {},
     "output_type": "display_data"
    }
   ],
   "source": [
    "# Visualize some predictions\n",
    "for batch in test_loader:\n",
    "    samples = batch[0][:5]\n",
    "    y_preds = infer(model, samples)\n",
    "    plt.subplot(1, 5, 1)\n",
    "    for i, sample in enumerate(samples):\n",
    "        plt.subplot(1, 5, i+1)\n",
    "        plt.title('prediction: %i'% y_preds[i].data[0])\n",
    "        plt.imshow(sample.numpy().reshape((28,28)))\n",
    "    break"
   ]
  },
  {
   "cell_type": "markdown",
   "metadata": {
    "collapsed": true
   },
   "source": [
    "### Torchvision Datasets and Models"
   ]
  },
  {
   "cell_type": "markdown",
   "metadata": {},
   "source": [
    "- Using popular model architectures."
   ]
  },
  {
   "cell_type": "markdown",
   "metadata": {},
   "source": [
    "#### Datasets"
   ]
  },
  {
   "cell_type": "code",
   "execution_count": 19,
   "metadata": {},
   "outputs": [
    {
     "name": "stdout",
     "output_type": "stream",
     "text": [
      "Files already downloaded and verified\n"
     ]
    }
   ],
   "source": [
    "# Train data loaders\n",
    "train_loader = torch.utils.data.DataLoader(\n",
    "    datasets.CIFAR10('data/cifar10', train=True, download=True,\n",
    "                   transform=transforms.Compose([\n",
    "                       transforms.ToTensor(),\n",
    "                       transforms.Normalize((0.1307,), (0.3081,))\n",
    "                   ])),\n",
    "    batch_size=batch_size, shuffle=True)\n",
    "\n",
    "# Test data loader\n",
    "test_loader = torch.utils.data.DataLoader(\n",
    "    datasets.CIFAR10('data/cifar10', train=False, transform=transforms.Compose([\n",
    "                       transforms.ToTensor(),\n",
    "                       transforms.Normalize((0.1307,), (0.3081,))\n",
    "                   ])),\n",
    "    batch_size=batch_size, shuffle=True)"
   ]
  },
  {
   "cell_type": "code",
   "execution_count": 20,
   "metadata": {
    "collapsed": true
   },
   "outputs": [],
   "source": [
    "# Classes\n",
    "classes = ('plane', 'car', 'bird', 'cat',\n",
    "           'deer', 'dog', 'frog', 'horse', \n",
    "           'ship', 'truck')"
   ]
  },
  {
   "cell_type": "code",
   "execution_count": 21,
   "metadata": {},
   "outputs": [
    {
     "data": {
      "image/png": "[encoded data removed]",
      "text/plain": [
       "<matplotlib.figure.Figure at 0x10d5deba8>"
      ]
     },
     "metadata": {},
     "output_type": "display_data"
    }
   ],
   "source": [
    "# Visualize some samples\n",
    "from scipy.misc import toimage\n",
    "for batch in test_loader:\n",
    "    samples = batch[0][:5]\n",
    "    y_true = batch[1]\n",
    "    plt.subplot(1, 5, 1)\n",
    "    for i, sample in enumerate(samples):\n",
    "        plt.subplot(1, 5, i+1)\n",
    "        plt.title('Class: %s'% classes[y_true[i]])\n",
    "        plt.imshow(toimage(sample.numpy()))\n",
    "    break"
   ]
  },
  {
   "cell_type": "markdown",
   "metadata": {},
   "source": [
    "#### Models"
   ]
  },
  {
   "cell_type": "code",
   "execution_count": 22,
   "metadata": {},
   "outputs": [
    {
     "name": "stdout",
     "output_type": "stream",
     "text": [
      "['alexnet', 'densenet121', 'densenet161', 'densenet169', 'densenet201', 'inception_v3', 'resnet101', 'resnet152', 'resnet18', 'resnet34', 'resnet50', 'squeezenet1_0', 'squeezenet1_1', 'vgg11', 'vgg11_bn', 'vgg13', 'vgg13_bn', 'vgg16', 'vgg16_bn', 'vgg19', 'vgg19_bn']\n"
     ]
    }
   ],
   "source": [
    "model_names = sorted(name for name in models.__dict__\n",
    "    if name.islower() and not name.startswith(\"__\")\n",
    "    and callable(models.__dict__[name]))\n",
    "print (model_names)"
   ]
  },
  {
   "cell_type": "code",
   "execution_count": 23,
   "metadata": {
    "collapsed": true
   },
   "outputs": [],
   "source": [
    "data_dir = 'data'\n",
    "model_name = 'resnet18'\n",
    "num_workers = 4\n",
    "num_epochs = 10\n",
    "batch_size = 256\n",
    "learning_rate = 1e-1\n",
    "momentum = 0.9\n",
    "weight_decay = 1e-4\n",
    "log_every = 10"
   ]
  },
  {
   "cell_type": "code",
   "execution_count": 30,
   "metadata": {
    "scrolled": false
   },
   "outputs": [
    {
     "name": "stdout",
     "output_type": "stream",
     "text": [
      "ResNet (\n",
      "  (conv1): Conv2d(3, 64, kernel_size=(7, 7), stride=(2, 2), padding=(3, 3), bias=False)\n",
      "  (bn1): BatchNorm2d(64, eps=1e-05, momentum=0.1, affine=True)\n",
      "  (relu): ReLU (inplace)\n",
      "  (maxpool): MaxPool2d (size=(3, 3), stride=(2, 2), padding=(1, 1), dilation=(1, 1))\n",
      "  (layer1): Sequential (\n",
      "    (0): BasicBlock (\n",
      "      (conv1): Conv2d(64, 64, kernel_size=(3, 3), stride=(1, 1), padding=(1, 1), bias=False)\n",
      "      (bn1): BatchNorm2d(64, eps=1e-05, momentum=0.1, affine=True)\n",
      "      (relu): ReLU (inplace)\n",
      "      (conv2): Conv2d(64, 64, kernel_size=(3, 3), stride=(1, 1), padding=(1, 1), bias=False)\n",
      "      (bn2): BatchNorm2d(64, eps=1e-05, momentum=0.1, affine=True)\n",
      "    )\n",
      "    (1): BasicBlock (\n",
      "      (conv1): Conv2d(64, 64, kernel_size=(3, 3), stride=(1, 1), padding=(1, 1), bias=False)\n",
      "      (bn1): BatchNorm2d(64, eps=1e-05, momentum=0.1, affine=True)\n",
      "      (relu): ReLU (inplace)\n",
      "      (conv2): Conv2d(64, 64, kernel_size=(3, 3), stride=(1, 1), padding=(1, 1), bias=False)\n",
      "      (bn2): BatchNorm2d(64, eps=1e-05, momentum=0.1, affine=True)\n",
      "    )\n",
      "  )\n",
      "  (layer2): Sequential (\n",
      "    (0): BasicBlock (\n",
      "      (conv1): Conv2d(64, 128, kernel_size=(3, 3), stride=(2, 2), padding=(1, 1), bias=False)\n",
      "      (bn1): BatchNorm2d(128, eps=1e-05, momentum=0.1, affine=True)\n",
      "      (relu): ReLU (inplace)\n",
      "      (conv2): Conv2d(128, 128, kernel_size=(3, 3), stride=(1, 1), padding=(1, 1), bias=False)\n",
      "      (bn2): BatchNorm2d(128, eps=1e-05, momentum=0.1, affine=True)\n",
      "      (downsample): Sequential (\n",
      "        (0): Conv2d(64, 128, kernel_size=(1, 1), stride=(2, 2), bias=False)\n",
      "        (1): BatchNorm2d(128, eps=1e-05, momentum=0.1, affine=True)\n",
      "      )\n",
      "    )\n",
      "    (1): BasicBlock (\n",
      "      (conv1): Conv2d(128, 128, kernel_size=(3, 3), stride=(1, 1), padding=(1, 1), bias=False)\n",
      "      (bn1): BatchNorm2d(128, eps=1e-05, momentum=0.1, affine=True)\n",
      "      (relu): ReLU (inplace)\n",
      "      (conv2): Conv2d(128, 128, kernel_size=(3, 3), stride=(1, 1), padding=(1, 1), bias=False)\n",
      "      (bn2): BatchNorm2d(128, eps=1e-05, momentum=0.1, affine=True)\n",
      "    )\n",
      "  )\n",
      "  (layer3): Sequential (\n",
      "    (0): BasicBlock (\n",
      "      (conv1): Conv2d(128, 256, kernel_size=(3, 3), stride=(2, 2), padding=(1, 1), bias=False)\n",
      "      (bn1): BatchNorm2d(256, eps=1e-05, momentum=0.1, affine=True)\n",
      "      (relu): ReLU (inplace)\n",
      "      (conv2): Conv2d(256, 256, kernel_size=(3, 3), stride=(1, 1), padding=(1, 1), bias=False)\n",
      "      (bn2): BatchNorm2d(256, eps=1e-05, momentum=0.1, affine=True)\n",
      "      (downsample): Sequential (\n",
      "        (0): Conv2d(128, 256, kernel_size=(1, 1), stride=(2, 2), bias=False)\n",
      "        (1): BatchNorm2d(256, eps=1e-05, momentum=0.1, affine=True)\n",
      "      )\n",
      "    )\n",
      "    (1): BasicBlock (\n",
      "      (conv1): Conv2d(256, 256, kernel_size=(3, 3), stride=(1, 1), padding=(1, 1), bias=False)\n",
      "      (bn1): BatchNorm2d(256, eps=1e-05, momentum=0.1, affine=True)\n",
      "      (relu): ReLU (inplace)\n",
      "      (conv2): Conv2d(256, 256, kernel_size=(3, 3), stride=(1, 1), padding=(1, 1), bias=False)\n",
      "      (bn2): BatchNorm2d(256, eps=1e-05, momentum=0.1, affine=True)\n",
      "    )\n",
      "  )\n",
      "  (layer4): Sequential (\n",
      "    (0): BasicBlock (\n",
      "      (conv1): Conv2d(256, 512, kernel_size=(3, 3), stride=(2, 2), padding=(1, 1), bias=False)\n",
      "      (bn1): BatchNorm2d(512, eps=1e-05, momentum=0.1, affine=True)\n",
      "      (relu): ReLU (inplace)\n",
      "      (conv2): Conv2d(512, 512, kernel_size=(3, 3), stride=(1, 1), padding=(1, 1), bias=False)\n",
      "      (bn2): BatchNorm2d(512, eps=1e-05, momentum=0.1, affine=True)\n",
      "      (downsample): Sequential (\n",
      "        (0): Conv2d(256, 512, kernel_size=(1, 1), stride=(2, 2), bias=False)\n",
      "        (1): BatchNorm2d(512, eps=1e-05, momentum=0.1, affine=True)\n",
      "      )\n",
      "    )\n",
      "    (1): BasicBlock (\n",
      "      (conv1): Conv2d(512, 512, kernel_size=(3, 3), stride=(1, 1), padding=(1, 1), bias=False)\n",
      "      (bn1): BatchNorm2d(512, eps=1e-05, momentum=0.1, affine=True)\n",
      "      (relu): ReLU (inplace)\n",
      "      (conv2): Conv2d(512, 512, kernel_size=(3, 3), stride=(1, 1), padding=(1, 1), bias=False)\n",
      "      (bn2): BatchNorm2d(512, eps=1e-05, momentum=0.1, affine=True)\n",
      "    )\n",
      "  )\n",
      "  (avgpool): AvgPool2d (\n",
      "  )\n",
      "  (fc): Linear (512 -> 1000)\n",
      ")\n"
     ]
    }
   ],
   "source": [
    "model = models.__dict__[model_name](pretrained=True) # Set false to train from scratch\n",
    "criterion = nn.CrossEntropyLoss()\n",
    "optimizer = optim.SGD(model.parameters(), \n",
    "                      lr=learning_rate, \n",
    "                      momentum=momentum, \n",
    "                      weight_decay=weight_decay,\n",
    "                     )\n",
    "print (model)"
   ]
  },
  {
   "cell_type": "markdown",
   "metadata": {},
   "source": [
    "- Find more models architectures and models for specific datasets at https://github.com/pytorch/vision/tree/master/torchvision"
   ]
  },
  {
   "cell_type": "markdown",
   "metadata": {},
   "source": [
    "### Transfer Learning"
   ]
  },
  {
   "cell_type": "code",
   "execution_count": null,
   "metadata": {
    "collapsed": true
   },
   "outputs": [],
   "source": []
  }
 ],
 "metadata": {
  "kernelspec": {
   "display_name": "Python 3",
   "language": "python",
   "name": "python3"
  },
  "language_info": {
   "codemirror_mode": {
    "name": "ipython",
    "version": 3
   },
   "file_extension": ".py",
   "mimetype": "text/x-python",
   "name": "python",
   "nbconvert_exporter": "python",
   "pygments_lexer": "ipython3",
   "version": "3.6.0"
  }
 },
 "nbformat": 4,
 "nbformat_minor": 2
}
