{
 "cells": [
  {
   "cell_type": "markdown",
   "metadata": {},
   "source": [
    "# Lesson 3: Embeddings and Recurrent Neural Networks with PyTorch\n",
    "- [@AlfredoCanziani](https://twitter.com/alfredocanziani)\n",
    "- [@GokuMohandas](https://twitter.com/GokuMohandas)"
   ]
  },
  {
   "cell_type": "code",
   "execution_count": 26,
   "metadata": {
    "collapsed": true
   },
   "outputs": [],
   "source": [
    "import os\n",
    "import sys\n",
    "import logging\n",
    "import random\n",
    "import time\n",
    "import math\n",
    "import numpy as np\n",
    "import matplotlib.pyplot as plt\n",
    "import pylab as pl\n",
    "\n",
    "from pycrayon import (\n",
    "    CrayonClient,\n",
    ")\n",
    "\n",
    "from IPython import (\n",
    "    display,\n",
    ")\n",
    "\n",
    "from IPython.display import (\n",
    "    Image,\n",
    "    clear_output,\n",
    ")\n",
    "\n",
    "# get matplotlib configuration\n",
    "%matplotlib inline\n",
    "%run plot_conf.py"
   ]
  },
  {
   "cell_type": "code",
   "execution_count": 27,
   "metadata": {
    "collapsed": true
   },
   "outputs": [],
   "source": [
    "import torch\n",
    "import torch.utils.data\n",
    "import torch.nn as nn\n",
    "import torch.nn.functional as F\n",
    "import torch.optim as optim\n",
    "\n",
    "from torch.autograd import (\n",
    "    Variable,\n",
    ")\n",
    "\n",
    "from torch.nn import (\n",
    "    init,\n",
    ")\n",
    "\n",
    "from torchvision import (\n",
    "    datasets, \n",
    "    transforms,\n",
    "    models,\n",
    "    utils,\n",
    ")"
   ]
  },
  {
   "cell_type": "markdown",
   "metadata": {},
   "source": [
    "### Embeddings"
   ]
  },
  {
   "cell_type": "markdown",
   "metadata": {},
   "source": [
    "In the previous chapter, we learned how to represent text using one-hot encoded vectors. Wether it be at the word-level or char-level, we represent each token with a vector. Where the length of the vector was the number of unique tokens and was a zero vector except at once location (unique to the token). THis allowed us to represent our input text and use with our differentiable network's weights. This one-hot encoding method of representing text can quickly grow out of control as the size of our vocabulary increases. Not only do out input vector grow but the weights in our model will also grow accordingly.\n",
    "\n",
    "$$ \\text{I: } [1, 0, 0] \\\\ \\text{am: } [0, 1, 0] \\\\ \\text{good: } [0, 0, 1] $$\n",
    "\n",
    "We also face another issue with representing the data as one-hot encoded vector. When we read text, the different tokens (words) have meaning to us and we can draw relationship between each of them. When we chose to represent the tokens with a one-hot encoded represetnation, all semantic and functional relationship is lost. An arbitrary index is used to represent each of our tokens and there is no way to draw meaning from the vectors. \n",
    "\n",
    "So, to solve both the issue of high dimensional representations and a meaningless representation, we can use embeddings to represent our text. Embeddings offer a low level representation that can capture the relationship between our tokens as well. \n",
    "\n",
    "Typically, embedding sizes range between 50-300 for each token which is largely empirically chosen. Let's start by looking at what a typical embedding matrix looks like. Suppose we have N tokens and we choose the emebdding size to be 300. Then our embedding matrix (weights) will be of size [N X 300], where N is the number of unique tokens. As with one-hot encoding, each token still has its own vector represtation but this time the number of columns is limited to 300 regardless of the number of unique tokens. Our embeddings can be randomly initialized but we can also initalize them. It is common to see random uniform initializations with range [−sqrt(3), sqrt(3)] or be uniform in the unit cube ([-1.0, 1.0]). \n",
    "\n",
    "$$ \\text{embeddings: } [N X E] \\\\ \\text{N: # of unique tokens} \\\\ \\text{E: embedding size} $$\n",
    "\n",
    "Now how do we represent our inputs using embeddings? For each token in our input, we will take the appropriate vector representation. For example, suppose we have word level emebddings (size 300) and we want to represent a five word long sentence with embeddings. We gather the embedding for each token to receive a input sentence representation that has dimensions [5 X 300]. Now we can go ahead and do additional evaluations on this vector for our task.\n",
    "\n",
    "You may be wondering how random initializations can capture the relationship between our tokens and you are justified in thinking that because they do not, yet. Once we initalize our embeddings, we have several methods of manipulating the embeddings so that they are able to capture meaningful relationships. We will explore these various methods in detail in section 4.2, but the general premise is that we will use a feed forward network to build these meaningful embeddings in an unsupervised learning fashion. Once the embeddings are set, then we can use them for our specific task while keeping the emebddings frozen or still allow them to change. We can also choose to keep them randomly initialized and alter the embeddings while we train for our specific task. The later option usually leads to overfitting and does not capture true semantic relationships between the tokens. "
   ]
  },
  {
   "cell_type": "markdown",
   "metadata": {},
   "source": [
    "With PyTorch, it is very easy to create embeddings. "
   ]
  },
  {
   "cell_type": "code",
   "execution_count": 28,
   "metadata": {
    "collapsed": true
   },
   "outputs": [],
   "source": [
    "class Model(nn.Module):\n",
    "    \"\"\"\n",
    "    Model with random embeddings.\n",
    "    \"\"\"\n",
    "    def __init__(self, input_size, hidden_size):\n",
    "        \"\"\"\n",
    "        Initialize weights.\n",
    "        \"\"\"\n",
    "        super(Model, self).__init__()\n",
    "        \n",
    "        # Embeddings\n",
    "        self.embedding = nn.Embedding(\n",
    "            num_embeddings=input_size,\n",
    "            embedding_dim=hidden_size,\n",
    "        )\n",
    "        \n",
    "        # Properly initialize weights\n",
    "        self.init_weights()\n",
    "        \n",
    "    def init_weights(self):\n",
    "        \"\"\"\n",
    "        Properly initialize weights.\n",
    "        \"\"\"\n",
    "        self.embedding.weight.data.uniform_(\n",
    "            -np.sqrt(3), np.sqrt(3))\n",
    "        \n",
    "    def forward(self, inputs):\n",
    "        \"\"\"\n",
    "        Forward pass.\n",
    "        \"\"\"\n",
    "        # Embed the inputs\n",
    "        embedded_inputs = self.embedding(inputs)\n",
    "        \n",
    "        # Rest of forward pass\n",
    "        ...\n",
    "        \n",
    "        return embedded_inputs"
   ]
  },
  {
   "cell_type": "code",
   "execution_count": 29,
   "metadata": {},
   "outputs": [
    {
     "name": "stdout",
     "output_type": "stream",
     "text": [
      "Variable containing:\n",
      " 4\n",
      " 2\n",
      " 4\n",
      " 1\n",
      "[torch.LongTensor of size 4]\n",
      "\n"
     ]
    }
   ],
   "source": [
    "# Input: List of token ids for a sentence\n",
    "X = Variable(torch.LongTensor([4, 2, 4, 1]))\n",
    "print (X)"
   ]
  },
  {
   "cell_type": "code",
   "execution_count": 30,
   "metadata": {},
   "outputs": [
    {
     "name": "stdout",
     "output_type": "stream",
     "text": [
      "Variable containing:\n",
      "-1.6745 -1.0047 -1.5146  ...  -0.1317 -0.0313 -1.6230\n",
      "-0.4109  0.0476  0.1311  ...  -1.2627 -0.9952  0.9369\n",
      "-1.6745 -1.0047 -1.5146  ...  -0.1317 -0.0313 -1.6230\n",
      " 0.0145  0.9278 -1.2476  ...   1.1719  0.6486  1.1977\n",
      "[torch.FloatTensor of size 4x300]\n",
      "\n"
     ]
    }
   ],
   "source": [
    "# Feed into the model to embed\n",
    "model = Model(input_size=5, hidden_size=300)\n",
    "embedded_inputs = model(X)\n",
    "print (embedded_inputs)"
   ]
  },
  {
   "cell_type": "markdown",
   "metadata": {},
   "source": [
    "We will explore initiailizing our emebddings with pre-learned vectors in the next section when we cover them in detail."
   ]
  },
  {
   "cell_type": "markdown",
   "metadata": {},
   "source": [
    "### Word2Vec Basics"
   ]
  },
  {
   "cell_type": "markdown",
   "metadata": {
    "collapsed": true
   },
   "source": [
    "How do we ensure that our embeddings are meaningful? As we discussed earlier, one option is to initialize them and then to have them be \"unfrozen\". What this means is that we allow the embeddings to change and are treated like regular weights in terms of parameter updates. This is one particular approach is often not used due to risk of overfitting. Since the embeddings will be changed in the direction that minimizes the objective function, they may not be generalizable embeddings for test time. They may not reflect the semantic relationships between the words and are tailored for the training task. An alternative to this approach is to learn the embeddings such that the similarity in the embedding space reflects the semantic simialrity between the words. \n",
    "\n",
    "One popular approach is the Word2Vec model proposed by Mikolov et. al. (https://arxiv.org/abs/1310.4546). The premise of the model was to embed words in $\\mathbb{R}^d$ so that their inner product is maximized when words co-occur in similar contexts. A very large text corpora is used to do this in order to capture semantic meaning in the embeddings.\n",
    "\n",
    "#### Skip-gram model\n",
    "\n",
    "The model approach behind Word2vec is the skip-gram model. This model takes in a word and tries to predict the context words. The context words are considered to be the words to the right and left of the target word. The number of words we want to predict for either size depends on the window size. Let's look at an example to make this more concrete.\n",
    "\n",
    "$$ \\text{the sun was shining brightly today} $$\n",
    "\n",
    "We want to create pairs of data points ($(context, target)$) from this input sentence which we will use in our skip-gram model to learn the proper embeddings. Let's assume that the window size is 1.\n",
    "\n",
    "<img src=\"figures/ch04_skip_gram_data.jpg\"></img>\n",
    "\n",
    "With skip-gram, we want to predict each context word from the target word, so our dataset now looks like this:\n",
    "\n",
    "$$\\text{(sun, the), (sun, was), (was, sun), (was, shining), ... }$$\n",
    "\n",
    "We feed in the target word and wan to receive the context word for the output. For our model, this means we want to input the emebedding for the target word and receive a result that decodes to the context word. You'll notice that particular target word maps to different context words. This is what we want because we are not trying to learn a one-to-one relationship but how each word relates to all the other words in our dataset. The target word's embedding gets updated with every run and as the performance of the model increases, our embeddings are able to capture more the semantic relationships. "
   ]
  },
  {
   "cell_type": "code",
   "execution_count": 31,
   "metadata": {
    "collapsed": true
   },
   "outputs": [],
   "source": [
    "def skip_gram(sentences, window_size):\n",
    "    \"\"\"\n",
    "    Create data based on\n",
    "    skip-gram approach aka\n",
    "    (predict context word\n",
    "    from target word).\n",
    "    \"\"\"\n",
    "\n",
    "    data = []\n",
    "    for sentence in sentences:\n",
    "\n",
    "        # For each index\n",
    "        for i, index in enumerate(sentence):\n",
    "\n",
    "            # Collect valid context indexes\n",
    "            contexts = []\n",
    "            for window in range(window_size):\n",
    "\n",
    "                # left side\n",
    "                if i-(window+1) >= 0:\n",
    "                    contexts.append(sentence[i-(window+1)])\n",
    "                # right side\n",
    "                if i+(window+1) < len(sentence):\n",
    "                    contexts.append(sentence[i+(window+1)])\n",
    "\n",
    "            # Add to data\n",
    "            for context in contexts:\n",
    "                data.append((index, context))\n",
    "\n",
    "    return data"
   ]
  },
  {
   "cell_type": "markdown",
   "metadata": {},
   "source": [
    "The `skip_gram` function allows us to create training based on the ksip-gram approach. Using a window_size, we gather context words from the left and right of our target word and create pairs where we try to predict the context word from the target.\n",
    "\n",
    "<img src=\"figures/ch04_skipgram.jpg\"></img>"
   ]
  },
  {
   "cell_type": "code",
   "execution_count": 32,
   "metadata": {
    "collapsed": true
   },
   "outputs": [],
   "source": [
    "class MLP(nn.Module):\n",
    "    \"\"\"\n",
    "    \"\"\"\n",
    "    def __init__(self, D_in, H):\n",
    "        \"\"\"\n",
    "        Initialize weights.\n",
    "        \"\"\"\n",
    "        super(MLP, self).__init__()\n",
    "\n",
    "         # Embedding\n",
    "        self.embedding = nn.Embedding(\n",
    "            num_embeddings=D_in,\n",
    "            embedding_dim=H,\n",
    "            )\n",
    "        self.fc2 = nn.Linear(H, D_in)\n",
    "\n",
    "        # Initialize weights\n",
    "        self.init_weights()\n",
    "\n",
    "    def init_weights(self):\n",
    "        \"\"\"\n",
    "        Initialize weights.\n",
    "        \"\"\"\n",
    "        self.embedding.weight.data.uniform_(-np.sqrt(3), np.sqrt(3))\n",
    "\n",
    "    def forward(self, x):\n",
    "        \"\"\"\n",
    "        Forward pass.\n",
    "        \"\"\"\n",
    "        z = self.embedding(x)\n",
    "        z = self.fc2(z)\n",
    "        return z"
   ]
  },
  {
   "cell_type": "markdown",
   "metadata": {},
   "source": [
    "The training model is a simple `MLP` without any non-linearities. The objective is to use the context word's embedding to predict the target word. By repeatedly doing this using our training data, we will learn the semantic relationships between the words.\n",
    "\n",
    "The trained some sample text (Wizard of Oz) using our simple skip_gram model and we are already able to map a few basic semantic relations. Below are a few similar words to the word `witch`. Similarity is based on the cosine distance between the embedding for `witch` and all the other words in our corpus.\n",
    "\n",
    "```bash\n",
    "Close to witch : ['wicked', 'evil', 'messenger', 'mouth', 'pot', 'heels', 'cooking', 'believe', 'pigs', 'mole']\n",
    "```"
   ]
  },
  {
   "cell_type": "markdown",
   "metadata": {},
   "source": [
    "### Using Pretrained Embeddings in PyTorch"
   ]
  },
  {
   "cell_type": "markdown",
   "metadata": {},
   "source": [
    "```bash\n",
    "bash fetch_embeddings.sh (in lesson3 directory)\n",
    "```"
   ]
  },
  {
   "cell_type": "code",
   "execution_count": 33,
   "metadata": {
    "collapsed": true
   },
   "outputs": [],
   "source": [
    "from pytorch_code.glove.main import (\n",
    "    get_embedding,\n",
    "    load_embeddings,\n",
    "    get_closest,\n",
    "    pretty_print,\n",
    "    get_analogy,\n",
    ")"
   ]
  },
  {
   "cell_type": "code",
   "execution_count": 34,
   "metadata": {
    "collapsed": true
   },
   "outputs": [],
   "source": [
    "# Arguments\n",
    "embedding_dir = os.path.join(\"embeddings/glove\")\n",
    "embedding_dim = 100 # 50, 100, 200, 300"
   ]
  },
  {
   "cell_type": "code",
   "execution_count": 35,
   "metadata": {},
   "outputs": [
    {
     "name": "stderr",
     "output_type": "stream",
     "text": [
      "2017-07-23 10:26:02,631 ==> Loading Embeddings ...\n",
      "100%|██████████| 400000/400000 [00:37<00:00, 10570.10it/s]\n"
     ]
    }
   ],
   "source": [
    "logging.info(\"==> Loading Embeddings ...\")\n",
    "word_to_idx, embeddings = load_embeddings(\n",
    "    embedding_dir=embedding_dir,\n",
    "    embedding_dim=embedding_dim,\n",
    "    )"
   ]
  },
  {
   "cell_type": "markdown",
   "metadata": {
    "collapsed": true
   },
   "source": [
    "#### Nearest neighbors\n",
    "\n",
    "We will now use our pretrained embeddings to extract some of the relationships that were captured. We can use a simple distance metric to find out the nearest neighbors to a particular word."
   ]
  },
  {
   "cell_type": "code",
   "execution_count": 36,
   "metadata": {},
   "outputs": [
    {
     "name": "stdout",
     "output_type": "stream",
     "text": [
      "Enter a word: gucci\n",
      "[3.87] - burberry\n",
      "[4.00] - prada\n",
      "[4.01] - chanel\n",
      "[4.02] - dior\n",
      "[4.31] - fendi\n"
     ]
    }
   ],
   "source": [
    "word = input('Enter a word: ')\n",
    "word_embedding = get_embedding(word, word_to_idx, embeddings)\n",
    "pretty_print(get_closest(word_embedding, word_to_idx, embeddings, n=5))"
   ]
  },
  {
   "cell_type": "markdown",
   "metadata": {},
   "source": [
    "#### Vector arithmetic\n",
    "We can also do some vector arithmetic to see analogies as well. \n"
   ]
  },
  {
   "cell_type": "code",
   "execution_count": 37,
   "metadata": {},
   "outputs": [
    {
     "name": "stdout",
     "output_type": "stream",
     "text": [
      "[man : king :: woman : ?]\n",
      "[4.08] - queen\n",
      "[4.64] - monarch\n",
      "[4.91] - throne\n",
      "[4.92] - elizabeth\n",
      "[4.98] - prince\n"
     ]
    }
   ],
   "source": [
    "word1, word2, word3 = \"man\", \"king\", \"woman\"\n",
    "pretty_print(get_analogy(word1, word2, word3, word_to_idx, embeddings))"
   ]
  },
  {
   "cell_type": "markdown",
   "metadata": {},
   "source": [
    "We start by taking the embedding for `man` and subtract it from the embedding for `king`. This resulting vector is then added with the embedding for `woman`. We take this final representation and find the closest words to it. But why does this work? Since the embeddings are able to capture the relationship between the words, we can think of the vector we receive from `king`-`man` as the representation for trasnforming `man` to `king`. When we add this vector to `woman`, we apply the same transformation and we receive the expected 'queen' as one of the closest words. \n",
    "\n",
    "Now suppose we subtracted the embedding for `king` from `man`, which means the representation now holds the information to transform a king to a man. You can think of `man` as a younger version of `king` and also a more general term. When we add this difference to `woman`, we receive words like `girl` and `person`. Both of which are in accordance with our younger and more general expectations. "
   ]
  },
  {
   "cell_type": "code",
   "execution_count": 38,
   "metadata": {},
   "outputs": [
    {
     "name": "stdout",
     "output_type": "stream",
     "text": [
      "[king : man :: woman : ?]\n",
      "[7.17] - girl\n",
      "[7.64] - person\n",
      "[7.72] - victim\n",
      "[7.78] - boy\n",
      "[7.80] - teenager\n"
     ]
    }
   ],
   "source": [
    "word1, word2, word3 = \"king\", \"man\", \"woman\"\n",
    "pretty_print(get_analogy(word1, word2, word3, word_to_idx, embeddings))"
   ]
  },
  {
   "cell_type": "markdown",
   "metadata": {},
   "source": [
    "Try more examples!"
   ]
  },
  {
   "cell_type": "code",
   "execution_count": 21,
   "metadata": {},
   "outputs": [
    {
     "name": "stdout",
     "output_type": "stream",
     "text": [
      "Enter three words to fill ____ : ____ :: _____ banana yellow grapes\n",
      "[banana : yellow :: grapes : ?]\n",
      "[6.64] - purple\n",
      "[6.77] - red\n",
      "[6.99] - colors\n",
      "[7.01] - bright\n",
      "[7.15] - daffodils\n"
     ]
    }
   ],
   "source": [
    "word1, word2, word3 = input(\"Enter three words to fill ____ : ____ :: _____ \").split()\n",
    "pretty_print(get_analogy(word1, word2, word3, word_to_idx, embeddings))"
   ]
  },
  {
   "cell_type": "markdown",
   "metadata": {},
   "source": [
    "#### Visualize embeddings\n",
    "\n",
    "We can also visualize the embeddings to see clusters, etc. We will use [t-Distributed Stochastic Neighbor Embedding (t-SNE)](https://lvdmaaten.github.io/publications/papers/JMLR_2008.pdf) to visusalize our high dimensional embeddings on a 2D plane. The method allows us to take high-dimensional inputs and gives us a lower-dimensional representation. In our case, we are converting our high-dimensional embeddings to two dimensions so we can visualize them on a 2D plane. t-SNE applies non-linear transformation to regions of the initial input while maintaining the complex relationships between our points as much as possible. The algorithm involves several complicated hyperparameters such as perplexity, etc. but we do not need to address paritculars for our visualization purpose. "
   ]
  },
  {
   "cell_type": "code",
   "execution_count": 39,
   "metadata": {
    "collapsed": true
   },
   "outputs": [],
   "source": [
    "from sklearn.manifold import TSNE"
   ]
  },
  {
   "cell_type": "code",
   "execution_count": 40,
   "metadata": {},
   "outputs": [
    {
     "data": {
      "image/png": "[encoded data removed]",
      "text/plain": [
       "<matplotlib.figure.Figure at 0x1336d65c0>"
      ]
     },
     "metadata": {},
     "output_type": "display_data"
    }
   ],
   "source": [
    "# Retrieve embeddings for words\n",
    "words = [\"man\", \"king\", \"woman\", \"queen\"]\n",
    "my_embeddings = np.array([\n",
    "    get_embedding(word, word_to_idx, embeddings).numpy() \\\n",
    "    for word in words])\n",
    "\n",
    "# Use TSNE model to reduce dimensionality\n",
    "model = TSNE(n_components=2, random_state=0)\n",
    "points = model.fit_transform(my_embeddings) \n",
    "\n",
    "# Visualize\n",
    "for i, word in enumerate(words):\n",
    "    x, y = points[i, 0]*1e4, points[i, 1]*1e4\n",
    "    plt.scatter(x, y)\n",
    "    plt.annotate(word, xy=(x, y), xytext=(25, 5),\n",
    "        textcoords='offset points', ha='right', va='bottom')"
   ]
  },
  {
   "cell_type": "markdown",
   "metadata": {},
   "source": [
    "### Recurrent Neural Networks"
   ]
  },
  {
   "cell_type": "markdown",
   "metadata": {},
   "source": [
    "http://pytorch.org/docs/master/nn.html#recurrent-layers"
   ]
  },
  {
   "cell_type": "code",
   "execution_count": 25,
   "metadata": {
    "collapsed": true
   },
   "outputs": [],
   "source": [
    "class Encoder(nn.Module):\n",
    "    \"\"\"\n",
    "    \"\"\"\n",
    "    def __init__(self, num_unique_words, embedding_dim,\n",
    "        num_hidden_units, num_layers, dropout_p, embeddings=None):\n",
    "        \"\"\"\n",
    "        Initialize weights.\n",
    "        \"\"\"\n",
    "        super(Encoder, self).__init__()\n",
    "        self.num_hidden_units = num_hidden_units\n",
    "        self.num_layers = num_layers\n",
    "\n",
    "        # Embeddings\n",
    "        self.embeddings = embeddings\n",
    "        self.word_embeddings = nn.Embedding(\n",
    "            num_embeddings=num_unique_words,\n",
    "            embedding_dim=embedding_dim,\n",
    "            )\n",
    "\n",
    "        # RNN\n",
    "        self.gru = nn.GRU(\n",
    "            input_size=embedding_dim,\n",
    "            hidden_size=num_hidden_units,\n",
    "            num_layers=num_layers,\n",
    "            bidirectional=False,\n",
    "            batch_first=True,\n",
    "            dropout=dropout_p,\n",
    "            )\n",
    "\n",
    "        # Initialize weights\n",
    "        self.init_weights()\n",
    "\n",
    "    def init_weights(self):\n",
    "        \"\"\"\n",
    "        Initialize weights.\n",
    "        \"\"\"\n",
    "\n",
    "        # Freeze GloVe embeddings\n",
    "        self.word_embeddings.weight.data = self.embeddings\n",
    "        self.word_embeddings.weight.requires_grad=False\n",
    "\n",
    "    def init_hidden(self, batch_size):\n",
    "        \"\"\"\n",
    "        Initialize hidden\n",
    "        states for RNN.\n",
    "        \"\"\"\n",
    "\n",
    "        self.batch_size = batch_size\n",
    "        states = Variable(\n",
    "            torch.zeros(\n",
    "                self.num_layers, self.batch_size, self.num_hidden_units))\n",
    "\n",
    "    def forward(self, inputs, indexes, states):\n",
    "        \"\"\"\n",
    "        Forward pass.\n",
    "        \"\"\"\n",
    "\n",
    "        # Embed the inputs\n",
    "        embedded_inputs = self.word_embeddings(inputs)\n",
    "\n",
    "        # Feed into RNN\n",
    "        rnn_outputs, last_state = self.gru(embedded_inputs, states)\n",
    "\n",
    "        # Extract relevant state\n",
    "        last_relevant_state = torch.gather(\n",
    "            rnn_outputs,\n",
    "            dim=1,\n",
    "            index=indexes,\n",
    "            )\n",
    "\n",
    "        return last_relevant_state.view(self.batch_size, self.num_hidden_units)\n",
    "\n",
    "class Decoder(nn.Module):\n",
    "    \"\"\"\n",
    "    \"\"\"\n",
    "    def __init__(self, dropout_p, num_hidden_units, num_classes):\n",
    "        \"\"\"\n",
    "        Initialize weights.\n",
    "        \"\"\"\n",
    "        super(Decoder, self).__init__()\n",
    "        self.fc1 = nn.Linear(num_hidden_units, num_hidden_units)\n",
    "        self.dropout1 = nn.Dropout(dropout_p)\n",
    "        self.fc2 = nn.Linear(num_hidden_units, num_hidden_units)\n",
    "        self.dropout2 = nn.Dropout(dropout_p)\n",
    "        self.out = nn.Linear(num_hidden_units, num_classes)\n",
    "\n",
    "        # Initialize weights\n",
    "        self.init_weights()\n",
    "\n",
    "    def init_weights(self):\n",
    "        \"\"\"\n",
    "        Initialize weights.\n",
    "        \"\"\"\n",
    "        init.xavier_uniform(\n",
    "            self.fc1.weight,\n",
    "            gain=calculate_gain('relu'),\n",
    "            )\n",
    "        init.xavier_uniform(\n",
    "            self.fc2.weight,\n",
    "            gain=calculate_gain('relu'),\n",
    "            )\n",
    "\n",
    "    def forward(self, encoder_output):\n",
    "        \"\"\"\n",
    "        Forward pass.\n",
    "        \"\"\"\n",
    "        z = F.relu(self.fc1(encoder_output))\n",
    "        z = self.dropout1(z)\n",
    "        z = F.relu(self.fc2(z))\n",
    "        z = self.dropout2(z)\n",
    "        output = self.out(z)\n",
    "        return output"
   ]
  },
  {
   "cell_type": "markdown",
   "metadata": {
    "collapsed": true
   },
   "source": [
    "### END"
   ]
  },
  {
   "cell_type": "markdown",
   "metadata": {},
   "source": [
    "**Note**: Future posts will cover specific example use cases with RNNs including attention mechanisms, tree based RNN structures, etc."
   ]
  },
  {
   "cell_type": "code",
   "execution_count": null,
   "metadata": {
    "collapsed": true
   },
   "outputs": [],
   "source": []
  }
 ],
 "metadata": {
  "kernelspec": {
   "display_name": "Python 3",
   "language": "python",
   "name": "python3"
  },
  "language_info": {
   "codemirror_mode": {
    "name": "ipython",
    "version": 3
   },
   "file_extension": ".py",
   "mimetype": "text/x-python",
   "name": "python",
   "nbconvert_exporter": "python",
   "pygments_lexer": "ipython3",
   "version": "3.6.0"
  }
 },
 "nbformat": 4,
 "nbformat_minor": 2
}
