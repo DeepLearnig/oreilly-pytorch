{
 "cells": [
  {
   "cell_type": "code",
   "execution_count": 40,
   "metadata": {
    "collapsed": true
   },
   "outputs": [],
   "source": [
    "TODO:\n",
    "    \n",
    "\n",
    "train, test\n",
    "linear model\n",
    "NN model\n",
    "custom nn components (custom autograd, init weights, dropout, learning rate decay)\n",
    "toggle with ipywidgets\n",
    "crayon"
   ]
  },
  {
   "cell_type": "code",
   "execution_count": null,
   "metadata": {
    "collapsed": true
   },
   "outputs": [],
   "source": []
  },
  {
   "cell_type": "code",
   "execution_count": null,
   "metadata": {
    "collapsed": true
   },
   "outputs": [],
   "source": []
  },
  {
   "cell_type": "code",
   "execution_count": 269,
   "metadata": {
    "collapsed": true
   },
   "outputs": [],
   "source": [
    "import os\n",
    "import sys\n",
    "import random\n",
    "import time\n",
    "import numpy as np\n",
    "import matplotlib.pyplot as plt"
   ]
  },
  {
   "cell_type": "code",
   "execution_count": 84,
   "metadata": {
    "collapsed": true
   },
   "outputs": [],
   "source": [
    "import torch\n",
    "import torch.utils.data\n",
    "import torch.nn as nn\n",
    "import torch.nn.functional as F\n",
    "import torch.optim as optim\n",
    "from torch.autograd import (\n",
    "    Variable,\n",
    ")\n",
    "from torch.nn import (\n",
    "    init,\n",
    ")"
   ]
  },
  {
   "cell_type": "code",
   "execution_count": 265,
   "metadata": {
    "collapsed": true
   },
   "outputs": [],
   "source": [
    "def plot_model(X, y, w1, b1, w2, b2):\n",
    "    \"\"\"\n",
    "    Plot the model.\n",
    "    \"\"\"\n",
    "    h = 0.01\n",
    "    x_min, x_max = X[:, 0].min() - 1, X[:, 0].max() + 1\n",
    "    y_min, y_max = X[:, 1].min() - 1, X[:, 1].max() + 1\n",
    "    xx, yy = np.meshgrid(np.arange(x_min, x_max, h),\n",
    "                         np.arange(y_min, y_max, h))\n",
    "    Z = np.dot(np.maximum(0, np.dot(np.c_[xx.ravel(), yy.ravel()], w1) + b1), w2) + b2\n",
    "    Z = np.argmax(Z, axis=1)\n",
    "    Z = Z.reshape(xx.shape)\n",
    "    fig = plt.figure()\n",
    "    plt.contourf(xx, yy, Z, cmap=plt.cm.Spectral, alpha=0.8)\n",
    "    plt.scatter(X[:, 0], X[:, 1], c=y, s=40, cmap=plt.cm.Spectral)\n",
    "    plt.xlim(xx.min(), xx.max())\n",
    "    plt.ylim(yy.min(), yy.max())\n",
    "    plt.show()"
   ]
  },
  {
   "cell_type": "markdown",
   "metadata": {},
   "source": [
    "### Create the data"
   ]
  },
  {
   "cell_type": "code",
   "execution_count": 223,
   "metadata": {
    "collapsed": true
   },
   "outputs": [],
   "source": [
    "random.seed(seed)\n",
    "torch.manual_seed(seed=1234)\n",
    "N = 1000 # num_samples_per_class\n",
    "D = 2 # dimensions\n",
    "C = 3 # num_classes\n",
    "H = 100 # num_hidden_units"
   ]
  },
  {
   "cell_type": "code",
   "execution_count": 159,
   "metadata": {},
   "outputs": [
    {
     "name": "stdout",
     "output_type": "stream",
     "text": [
      "SHAPES:\n",
      "-------------------\n",
      "X: torch.Size([3000, 2])\n",
      "y: torch.Size([3000])\n"
     ]
    }
   ],
   "source": [
    "X = torch.zeros((N*C, D))\n",
    "y = torch.zeros((N*C))\n",
    "for i in range(C):\n",
    "    index = 0\n",
    "    r = torch.linspace(0, 1, N)\n",
    "    t = torch.linspace(i*4,(i+1)*4,N) + torch.randn(N)*0.1\n",
    "    for ix in range(N*i, N*(i+1)):\n",
    "        X[ix] = torch.FloatTensor(\n",
    "            (r[index]*np.sin(t[index]), r[index]*np.cos(t[index])), )\n",
    "        y[ix] = i\n",
    "        index += 1\n",
    "\n",
    "print (\"SHAPES:\")\n",
    "print (\"-------------------\")\n",
    "print (\"X:\", X.size())\n",
    "print (\"y:\", y.size())    "
   ]
  },
  {
   "cell_type": "code",
   "execution_count": 266,
   "metadata": {},
   "outputs": [],
   "source": [
    "def plot_data(X, y):\n",
    "    \"\"\"\n",
    "    Plot the data.\n",
    "    \"\"\"\n",
    "    plt.scatter (X[:, 0], X[:, 1], c=y, s=20, cmap=plt.cm.Spectral)\n",
    "    plt.show ()"
   ]
  },
  {
   "cell_type": "code",
   "execution_count": 267,
   "metadata": {},
   "outputs": [
    {
     "data": {
      "image/png": "[encoded data removed]",
      "text/plain": [
       "<matplotlib.figure.Figure at 0x11de00c18>"
      ]
     },
     "metadata": {},
     "output_type": "display_data"
    }
   ],
   "source": [
    "# Create the data\n",
    "plot_data(X.numpy(), y.numpy())"
   ]
  },
  {
   "cell_type": "markdown",
   "metadata": {},
   "source": [
    "### Create train/test sets"
   ]
  },
  {
   "cell_type": "code",
   "execution_count": 227,
   "metadata": {
    "collapsed": true
   },
   "outputs": [],
   "source": [
    "split_ratio = 0.8 # train-test split\n",
    "num_epochs = 1000\n",
    "batch_size = 64\n",
    "learning_rate = 1.0\n",
    "log_every = 250"
   ]
  },
  {
   "cell_type": "code",
   "execution_count": 217,
   "metadata": {},
   "outputs": [
    {
     "name": "stdout",
     "output_type": "stream",
     "text": [
      "We have 2400 train samples and 600 test samples.\n"
     ]
    }
   ],
   "source": [
    "shuffle_indicies = torch.LongTensor(random.sample(range(0, len(X)), len(X)))\n",
    "X = X[shuffle_indicies]\n",
    "y = y[shuffle_indicies]\n",
    "test_start_idx = int(len(X) * split_ratio)\n",
    "X_train = X[:test_start_idx] \n",
    "y_train = y[:test_start_idx] \n",
    "X_test = X[test_start_idx:] \n",
    "y_test = y[test_start_idx:]\n",
    "print (\"We have %i train samples and %i test samples.\" % (len(X_train), len(X_test)))"
   ]
  },
  {
   "cell_type": "code",
   "execution_count": 218,
   "metadata": {},
   "outputs": [],
   "source": [
    "# Join X and y\n",
    "train_data = torch.cat([X_train, y_train], 1)\n",
    "test_data = torch.cat([X_test, y_test], 1)"
   ]
  },
  {
   "cell_type": "code",
   "execution_count": 219,
   "metadata": {},
   "outputs": [],
   "source": [
    "# Data loaders\n",
    "train_loader = torch.utils.data.DataLoader(train_data, batch_size=batch_size)\n",
    "test_loader = torch.utils.data.DataLoader(test_data, batch_size=batch_size)"
   ]
  },
  {
   "cell_type": "markdown",
   "metadata": {},
   "source": [
    "### Linear model"
   ]
  },
  {
   "cell_type": "code",
   "execution_count": 224,
   "metadata": {},
   "outputs": [],
   "source": [
    "# Linear model\n",
    "class LinearModel(nn.Module):\n",
    "    \"\"\"\n",
    "    Linaer model.\n",
    "    \"\"\"\n",
    "    def __init__(self, D_in, H, D_out):\n",
    "        \"\"\"\n",
    "        Initialize weights.\n",
    "        \"\"\"\n",
    "        super(LinearModel, self).__init__()\n",
    "        self.fc1 = nn.Linear(D_in, H)\n",
    "        self.fc2 = nn.Linear(H, D_out)\n",
    "\n",
    "    def forward(self, x):\n",
    "        \"\"\"\n",
    "        Forward pass.\n",
    "        \"\"\"\n",
    "        z = self.fc1(x)\n",
    "        z = self.fc2(z)\n",
    "        return z"
   ]
  },
  {
   "cell_type": "code",
   "execution_count": 279,
   "metadata": {
    "collapsed": true
   },
   "outputs": [],
   "source": [
    "def process_batch(batch, model, criterion, optimizer, is_training):\n",
    "    \"\"\"\n",
    "    Process a minibatch for loss and accuracy.\n",
    "    \"\"\"\n",
    "    X_batch = batch[:,:2]\n",
    "    y_batch = batch[:, 2]\n",
    "\n",
    "    # Convert tensors to Variables (for autograd)\n",
    "    X_batch = Variable(X_batch, requires_grad=False)\n",
    "    y_batch = Variable(y_batch.long(), requires_grad=False)\n",
    "\n",
    "    # Forward pass\n",
    "    scores = model(X_batch) # logits\n",
    "\n",
    "    # Loss\n",
    "    loss = criterion(scores, y_batch)\n",
    "    \n",
    "    # Accuracy\n",
    "    score, predicted = torch.max(scores, 1)\n",
    "    accuracy = (y_batch.data == predicted.data).sum() / float(len(y_batch))\n",
    "    \n",
    "    if is_training:\n",
    "\n",
    "        # Use autograd to do backprop. This will compute the\n",
    "        # gradients w.r.t loss for all Variables that have\n",
    "        # requires_grad=True. So, our w1 and w2 will now have\n",
    "        # gradient components we can access.\n",
    "        optimizer.zero_grad()\n",
    "        loss.backward()\n",
    "        optimizer.step()\n",
    "\n",
    "    \n",
    "    return loss, accuracy"
   ]
  },
  {
   "cell_type": "code",
   "execution_count": 280,
   "metadata": {
    "code_folding": []
   },
   "outputs": [
    {
     "name": "stdout",
     "output_type": "stream",
     "text": [
      "TIME REMAINING: 0m 38s\n",
      "[EPOCH]: 0, [TRAIN LOSS]: 0.631160, [TRAIN ACC]: 0.496, [TEST LOSS]: 0.154010, [TEST ACC]: 0.429\n",
      "TIME REMAINING: 0m 25s\n",
      "[EPOCH]: 250, [TRAIN LOSS]: 0.025451, [TRAIN ACC]: 0.569, [TEST LOSS]: 0.031159, [TEST ACC]: 0.596\n",
      "TIME REMAINING: 0m 16s\n",
      "[EPOCH]: 500, [TRAIN LOSS]: 0.023943, [TRAIN ACC]: 0.556, [TEST LOSS]: 0.030930, [TEST ACC]: 0.532\n",
      "TIME REMAINING: 0m 9s\n",
      "[EPOCH]: 750, [TRAIN LOSS]: 0.023887, [TRAIN ACC]: 0.563, [TEST LOSS]: 0.030677, [TEST ACC]: 0.545\n",
      "TIME REMAINING: 0m 0s\n",
      "[EPOCH]: 999, [TRAIN LOSS]: 0.023810, [TRAIN ACC]: 0.574, [TEST LOSS]: 0.033101, [TEST ACC]: 0.586\n"
     ]
    }
   ],
   "source": [
    "# Create model\n",
    "model = LinearModel(D_in=D, H=H, D_out=C)\n",
    "\n",
    "# Objective\n",
    "criterion = torch.nn.CrossEntropyLoss()\n",
    "\n",
    "# Optimizer\n",
    "optimizer = torch.optim.Adam(model.parameters(), lr=learning_rate)\n",
    "\n",
    "# Training\n",
    "for num_train_epoch in range(num_epochs):\n",
    "    \n",
    "    # Timer\n",
    "    start = time.time()\n",
    "    \n",
    "    # Metrics\n",
    "    train_batch_loss = 0.0\n",
    "    train_batch_accuracy = 0.0\n",
    "    \n",
    "    for train_batch_num, (train_batch) in enumerate(train_loader):\n",
    "        \n",
    "        # Get metrics\n",
    "        model.train()\n",
    "        loss, accuracy = process_batch(train_batch, model, criterion, optimizer, model.training)\n",
    "        \n",
    "        # Add to batch scalars\n",
    "        train_batch_loss += loss.data[0] / float(len(X_train_batch))\n",
    "        train_batch_accuracy += accuracy    \n",
    "\n",
    "    # Verbose\n",
    "    if (num_train_epoch == 0) or (num_train_epoch % log_every == 0) or (num_train_epoch == num_epochs-1):\n",
    "        \n",
    "        # Testing\n",
    "        model.eval()\n",
    "        for num_test_epoch in range(1):\n",
    "            \n",
    "            # Metrics\n",
    "            test_batch_loss = 0.0\n",
    "            test_batch_accuracy = 0.0\n",
    "    \n",
    "            for test_batch_num, (test_batch) in enumerate(test_loader):\n",
    "        \n",
    "                # Get metrics\n",
    "                model.eval()\n",
    "                loss, accuracy = process_batch(test_batch, model, criterion, optimizer, model.training)\n",
    "                \n",
    "                # Add to batch scalars\n",
    "                test_batch_loss += loss.data[0] / float(len(X_test_batch))\n",
    "                test_batch_accuracy += accuracy\n",
    "        \n",
    "        # Verbose\n",
    "        time_remain = (time.time() - start) * (num_epochs - (num_train_epoch+1))\n",
    "        minutes = time_remain // 60\n",
    "        seconds = time_remain - minutes*60\n",
    "        print (\"TIME REMAINING: %im %is\" % (minutes, seconds))\n",
    "        print (\"[EPOCH]: %i, [TRAIN LOSS]: %.6f, [TRAIN ACC]: %.3f, [TEST LOSS]: %.6f, [TEST ACC]: %.3f\" %\n",
    "               (num_train_epoch, train_batch_loss/float(train_batch_num+1), \n",
    "                train_batch_accuracy/float(train_batch_num+1), test_batch_loss/float(test_batch_num+1),\n",
    "                test_batch_accuracy/float(test_batch_num+1)))"
   ]
  },
  {
   "cell_type": "code",
   "execution_count": 281,
   "metadata": {},
   "outputs": [
    {
     "data": {
      "image/png": "[encoded data removed]",
      "text/plain": [
       "<matplotlib.figure.Figure at 0x107bdf4e0>"
      ]
     },
     "metadata": {},
     "output_type": "display_data"
    }
   ],
   "source": [
    "# Plot trained model\n",
    "plot_model(X.numpy(), y.numpy(),\n",
    "    torch.transpose(model.fc1.weight.data, 0, 1).numpy(),\n",
    "    model.fc1.bias.data.numpy(),\n",
    "    torch.transpose(model.fc2.weight.data, 0, 1).numpy(),\n",
    "    model.fc2.bias.data.numpy())"
   ]
  },
  {
   "cell_type": "code",
   "execution_count": null,
   "metadata": {
    "collapsed": true
   },
   "outputs": [],
   "source": []
  },
  {
   "cell_type": "code",
   "execution_count": null,
   "metadata": {
    "collapsed": true
   },
   "outputs": [],
   "source": []
  }
 ],
 "metadata": {
  "kernelspec": {
   "display_name": "Python 3",
   "language": "python",
   "name": "python3"
  },
  "language_info": {
   "codemirror_mode": {
    "name": "ipython",
    "version": 3
   },
   "file_extension": ".py",
   "mimetype": "text/x-python",
   "name": "python",
   "nbconvert_exporter": "python",
   "pygments_lexer": "ipython3",
   "version": "3.6.0"
  }
 },
 "nbformat": 4,
 "nbformat_minor": 2
}
